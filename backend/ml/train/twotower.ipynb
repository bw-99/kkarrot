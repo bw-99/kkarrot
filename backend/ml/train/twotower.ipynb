{
 "cells": [
  {
   "cell_type": "code",
   "execution_count": 1,
   "metadata": {},
   "outputs": [
    {
     "data": {
      "text/html": [
       "<div>\n",
       "<style scoped>\n",
       "    .dataframe tbody tr th:only-of-type {\n",
       "        vertical-align: middle;\n",
       "    }\n",
       "\n",
       "    .dataframe tbody tr th {\n",
       "        vertical-align: top;\n",
       "    }\n",
       "\n",
       "    .dataframe thead th {\n",
       "        text-align: right;\n",
       "    }\n",
       "</style>\n",
       "<table border=\"1\" class=\"dataframe\">\n",
       "  <thead>\n",
       "    <tr style=\"text-align: right;\">\n",
       "      <th></th>\n",
       "      <th>user_id</th>\n",
       "      <th>item_id</th>\n",
       "      <th>rating</th>\n",
       "      <th>item_len</th>\n",
       "    </tr>\n",
       "  </thead>\n",
       "  <tbody>\n",
       "    <tr>\n",
       "      <th>0</th>\n",
       "      <td>0</td>\n",
       "      <td>556</td>\n",
       "      <td>2.0</td>\n",
       "      <td>93</td>\n",
       "    </tr>\n",
       "    <tr>\n",
       "      <th>0</th>\n",
       "      <td>0</td>\n",
       "      <td>843</td>\n",
       "      <td>2.0</td>\n",
       "      <td>93</td>\n",
       "    </tr>\n",
       "    <tr>\n",
       "      <th>0</th>\n",
       "      <td>0</td>\n",
       "      <td>1039</td>\n",
       "      <td>5.0</td>\n",
       "      <td>93</td>\n",
       "    </tr>\n",
       "    <tr>\n",
       "      <th>0</th>\n",
       "      <td>0</td>\n",
       "      <td>3865</td>\n",
       "      <td>5.0</td>\n",
       "      <td>93</td>\n",
       "    </tr>\n",
       "    <tr>\n",
       "      <th>0</th>\n",
       "      <td>0</td>\n",
       "      <td>4646</td>\n",
       "      <td>3.0</td>\n",
       "      <td>93</td>\n",
       "    </tr>\n",
       "    <tr>\n",
       "      <th>...</th>\n",
       "      <td>...</td>\n",
       "      <td>...</td>\n",
       "      <td>...</td>\n",
       "      <td>...</td>\n",
       "    </tr>\n",
       "    <tr>\n",
       "      <th>1999</th>\n",
       "      <td>1999</td>\n",
       "      <td>72419</td>\n",
       "      <td>0</td>\n",
       "      <td>106</td>\n",
       "    </tr>\n",
       "    <tr>\n",
       "      <th>1999</th>\n",
       "      <td>1999</td>\n",
       "      <td>82072</td>\n",
       "      <td>0</td>\n",
       "      <td>106</td>\n",
       "    </tr>\n",
       "    <tr>\n",
       "      <th>1999</th>\n",
       "      <td>1999</td>\n",
       "      <td>7212</td>\n",
       "      <td>0</td>\n",
       "      <td>106</td>\n",
       "    </tr>\n",
       "    <tr>\n",
       "      <th>1999</th>\n",
       "      <td>1999</td>\n",
       "      <td>19116</td>\n",
       "      <td>0</td>\n",
       "      <td>106</td>\n",
       "    </tr>\n",
       "    <tr>\n",
       "      <th>1999</th>\n",
       "      <td>1999</td>\n",
       "      <td>84812</td>\n",
       "      <td>0</td>\n",
       "      <td>106</td>\n",
       "    </tr>\n",
       "  </tbody>\n",
       "</table>\n",
       "<p>527772 rows × 4 columns</p>\n",
       "</div>"
      ],
      "text/plain": [
       "      user_id item_id rating  item_len\n",
       "0           0     556    2.0        93\n",
       "0           0     843    2.0        93\n",
       "0           0    1039    5.0        93\n",
       "0           0    3865    5.0        93\n",
       "0           0    4646    3.0        93\n",
       "...       ...     ...    ...       ...\n",
       "1999     1999   72419      0       106\n",
       "1999     1999   82072      0       106\n",
       "1999     1999    7212      0       106\n",
       "1999     1999   19116      0       106\n",
       "1999     1999   84812      0       106\n",
       "\n",
       "[527772 rows x 4 columns]"
      ]
     },
     "execution_count": 1,
     "metadata": {},
     "output_type": "execute_result"
    }
   ],
   "source": [
    "import pandas as pd\n",
    "import numpy as np\n",
    "import torch\n",
    "import torch.nn as nn\n",
    "import torch.nn.functional as F\n",
    "\n",
    "\n",
    "df = pd.read_pickle(\"../../data/processed/rating_engage.pkl\")\n",
    "df"
   ]
  },
  {
   "cell_type": "code",
   "execution_count": 2,
   "metadata": {},
   "outputs": [
    {
     "data": {
      "text/plain": [
       "tensor([[    0,   556,     2],\n",
       "        [    0,   843,     2],\n",
       "        [    0,  1039,     5],\n",
       "        ...,\n",
       "        [ 1999,  7212,     0],\n",
       "        [ 1999, 19116,     0],\n",
       "        [ 1999, 84812,     0]])"
      ]
     },
     "execution_count": 2,
     "metadata": {},
     "output_type": "execute_result"
    }
   ],
   "source": [
    "data = df.to_numpy()[:, :3].astype(int)\n",
    "data = torch.from_numpy(data)\n",
    "data"
   ]
  },
  {
   "cell_type": "code",
   "execution_count": 3,
   "metadata": {},
   "outputs": [],
   "source": [
    "# data = data[data[:, 2] > 0]\n",
    "# data"
   ]
  },
  {
   "cell_type": "code",
   "execution_count": 4,
   "metadata": {},
   "outputs": [
    {
     "data": {
      "text/plain": [
       "tensor([[    0,   556,     1],\n",
       "        [    0,   843,     1],\n",
       "        [    0,  1039,     1],\n",
       "        ...,\n",
       "        [ 1999,  7212,     0],\n",
       "        [ 1999, 19116,     0],\n",
       "        [ 1999, 84812,     0]])"
      ]
     },
     "execution_count": 4,
     "metadata": {},
     "output_type": "execute_result"
    }
   ],
   "source": [
    "data[:, 2][data[:, 2] > 1] = 1\n",
    "data"
   ]
  },
  {
   "cell_type": "code",
   "execution_count": 5,
   "metadata": {},
   "outputs": [
    {
     "data": {
      "text/plain": [
       "(tensor(1999), tensor(97717), tensor(1), tensor(0))"
      ]
     },
     "execution_count": 5,
     "metadata": {},
     "output_type": "execute_result"
    }
   ],
   "source": [
    "data[:, 0].max(), data[:, 1].max(), data[:, 2].max(), data[:, 2].min()"
   ]
  },
  {
   "cell_type": "code",
   "execution_count": 6,
   "metadata": {},
   "outputs": [
    {
     "data": {
      "text/plain": [
       "torch.Size([400])"
      ]
     },
     "execution_count": 6,
     "metadata": {},
     "output_type": "execute_result"
    }
   ],
   "source": [
    "from sklearn.model_selection import train_test_split\n",
    "from torch.utils.data import DataLoader, Dataset\n",
    "\n",
    "user_id_lst = torch.unique(data[:, 0])\n",
    "\n",
    "train_uid_lst, test_uid_lst = train_test_split(user_id_lst[:], test_size=0.2, random_state=42)\n",
    "test_uid_lst.shape"
   ]
  },
  {
   "cell_type": "code",
   "execution_count": 7,
   "metadata": {},
   "outputs": [
    {
     "data": {
      "text/plain": [
       "(torch.Size([527772, 3]),\n",
       " torch.Size([106014, 3]),\n",
       " tensor([[   23,  1219,     1],\n",
       "         [   23,  1541,     1],\n",
       "         [   23,  1930,     1],\n",
       "         ...,\n",
       "         [ 1990, 67701,     0],\n",
       "         [ 1990, 36109,     0],\n",
       "         [ 1990, 34740,     0]]))"
      ]
     },
     "execution_count": 7,
     "metadata": {},
     "output_type": "execute_result"
    }
   ],
   "source": [
    "train_data = data[:]\n",
    "test_data = data[torch.isin(data[:, 0], test_uid_lst)]\n",
    "\n",
    "train_data.shape, test_data.shape, test_data"
   ]
  },
  {
   "cell_type": "code",
   "execution_count": 8,
   "metadata": {},
   "outputs": [
    {
     "data": {
      "text/plain": [
       "(2000, 97718)"
      ]
     },
     "execution_count": 8,
     "metadata": {},
     "output_type": "execute_result"
    }
   ],
   "source": [
    "user_shape = np.unique(data[:, 0]).shape[0]\n",
    "item_shape = np.unique(data[:, 1]).shape[0]\n",
    "user_shape, item_shape"
   ]
  },
  {
   "cell_type": "code",
   "execution_count": 9,
   "metadata": {},
   "outputs": [
    {
     "data": {
      "text/plain": [
       "tensor([    0,     1,     2,  ..., 97715, 97716, 97717])"
      ]
     },
     "execution_count": 9,
     "metadata": {},
     "output_type": "execute_result"
    }
   ],
   "source": [
    "total_item_id_lst = torch.unique(data[:, 1])\n",
    "total_item_id_lst"
   ]
  },
  {
   "cell_type": "code",
   "execution_count": 10,
   "metadata": {},
   "outputs": [],
   "source": [
    "\n",
    "from torch.utils.data import DataLoader, Dataset\n",
    "\n",
    "\n",
    "class TwoTwoerDataset(Dataset):\n",
    "    def __init__(self, interactions):\n",
    "        self.interactions = interactions\n",
    "\n",
    "    def __len__(self):\n",
    "        return len(self.interactions)\n",
    "\n",
    "    def __getitem__(self, idx):\n",
    "        inter = self.interactions[idx]\n",
    "        return inter[0], inter[1], inter[2].float()\n",
    "    \n",
    "class TwoTwoerTestDataset(Dataset):\n",
    "    def __init__(self, test_data, total_item_id_lst):\n",
    "        self.users = torch.unique(test_data[:, 0])\n",
    "        self.test_data = test_data\n",
    "        self.total_item_id_lst = total_item_id_lst\n",
    "\n",
    "    def __len__(self):\n",
    "        return len(self.users)\n",
    "\n",
    "    def __getitem__(self, idx):\n",
    "        user_idx = self.users[idx]\n",
    "        labels = self.test_data[self.test_data[:, 0]==user_idx]\n",
    "\n",
    "        full_rank_data = torch.zeros((self.total_item_id_lst.shape[0], 3)).long()\n",
    "        full_rank_data[:, 0] = user_idx\n",
    "        full_rank_data[:, 1] = self.total_item_id_lst\n",
    "\n",
    "        for item in (labels):\n",
    "            indicies = ((full_rank_data[:, 0] == item[0]) & (full_rank_data[:, 1] == item[1]))\n",
    "            full_rank_data[indicies, 2] = item[2]\n",
    "        \n",
    "        return full_rank_data\n",
    "\n",
    "\n",
    "# Hyperparameters\n",
    "embedding_dim = 128\n",
    "num_epochs = 1000\n",
    "learning_rate = 5e-4\n",
    "batch_size = 2024\n",
    "\n",
    "train_loader = DataLoader(TwoTwoerDataset(train_data), batch_size=batch_size, shuffle=True)\n",
    "test_loader = DataLoader(TwoTwoerTestDataset(test_data, total_item_id_lst), batch_size=32, shuffle=False)"
   ]
  },
  {
   "cell_type": "code",
   "execution_count": 11,
   "metadata": {},
   "outputs": [],
   "source": [
    "import torch.optim as optim\n",
    "import sys\n",
    "sys.path.append(\"../\")\n",
    "from model import TTRecommender\n",
    "\n",
    "    \n",
    "num_uesrs = torch.unique(data[:, 0]).max() + 1\n",
    "num_items = torch.unique(data[:, 1]).max() + 1\n",
    "\n",
    "# 모델 인스턴스화\n",
    "model = TTRecommender(num_uesrs, num_items, embedding_dim).cuda()\n",
    "\n",
    "# Loss와 Optimizer 정의\n",
    "criterion = nn.BCEWithLogitsLoss()\n",
    "optimizer = optim.Adam(model.parameters(), lr=learning_rate)"
   ]
  },
  {
   "cell_type": "code",
   "execution_count": 12,
   "metadata": {},
   "outputs": [
    {
     "name": "stderr",
     "output_type": "stream",
     "text": [
      "100%|██████████| 261/261 [00:08<00:00, 29.05it/s]\n",
      "100%|██████████| 13/13 [00:32<00:00,  2.50s/it]\n",
      "100%|██████████| 400/400 [00:22<00:00, 17.89it/s]\n"
     ]
    },
    {
     "name": "stdout",
     "output_type": "stream",
     "text": [
      "Epoch [1/1000], Loss: 4.5454, Precision@20: 0.0001, Recall@20: 0.0000080145\n"
     ]
    },
    {
     "name": "stderr",
     "output_type": "stream",
     "text": [
      "100%|██████████| 261/261 [00:08<00:00, 30.24it/s]\n",
      "100%|██████████| 13/13 [00:24<00:00,  1.91s/it]\n",
      "100%|██████████| 400/400 [00:21<00:00, 18.96it/s]\n"
     ]
    },
    {
     "name": "stdout",
     "output_type": "stream",
     "text": [
      "Epoch [2/1000], Loss: 4.2734, Precision@20: 0.0001, Recall@20: 0.0000080145\n"
     ]
    },
    {
     "name": "stderr",
     "output_type": "stream",
     "text": [
      "100%|██████████| 261/261 [00:08<00:00, 30.24it/s]\n",
      "100%|██████████| 13/13 [00:24<00:00,  1.91s/it]\n",
      "100%|██████████| 400/400 [00:20<00:00, 19.47it/s]\n"
     ]
    },
    {
     "name": "stdout",
     "output_type": "stream",
     "text": [
      "Epoch [3/1000], Loss: 3.9931, Precision@20: 0.0001, Recall@20: 0.0000080145\n"
     ]
    },
    {
     "name": "stderr",
     "output_type": "stream",
     "text": [
      "100%|██████████| 261/261 [00:08<00:00, 29.70it/s]\n",
      "100%|██████████| 13/13 [00:36<00:00,  2.84s/it]\n",
      "100%|██████████| 400/400 [00:20<00:00, 19.90it/s]\n"
     ]
    },
    {
     "name": "stdout",
     "output_type": "stream",
     "text": [
      "Epoch [4/1000], Loss: 3.7205, Precision@20: 0.0001, Recall@20: 0.0000080145\n"
     ]
    },
    {
     "name": "stderr",
     "output_type": "stream",
     "text": [
      "100%|██████████| 261/261 [00:08<00:00, 29.81it/s]\n",
      "100%|██████████| 13/13 [00:29<00:00,  2.24s/it]\n",
      "100%|██████████| 400/400 [00:19<00:00, 20.57it/s]\n"
     ]
    },
    {
     "name": "stdout",
     "output_type": "stream",
     "text": [
      "Epoch [5/1000], Loss: 3.4593, Precision@20: 0.0000, Recall@20: 0.0000067768\n"
     ]
    },
    {
     "name": "stderr",
     "output_type": "stream",
     "text": [
      "100%|██████████| 261/261 [00:08<00:00, 30.53it/s]\n",
      "100%|██████████| 13/13 [00:32<00:00,  2.52s/it]\n",
      "100%|██████████| 400/400 [00:21<00:00, 19.02it/s]"
     ]
    },
    {
     "name": "stdout",
     "output_type": "stream",
     "text": [
      "Epoch [6/1000], Loss: 3.2107, Precision@20: 0.0000, Recall@20: 0.0000067768\n",
      "Early stopping triggered\n"
     ]
    },
    {
     "name": "stderr",
     "output_type": "stream",
     "text": [
      "\n"
     ]
    }
   ],
   "source": [
    "from tqdm import tqdm\n",
    "from copy import deepcopy\n",
    "import warnings\n",
    "import gc\n",
    "early_stopping_patience=5\n",
    "warnings.filterwarnings('always')\n",
    "\n",
    "model_parameters = deepcopy(model.state_dict())\n",
    "\n",
    "def recall_pre_at_k_per_user(user_lst, item_lst, pred_lst, target_lst, k=20):\n",
    "    unique_user_id = torch.unique(user_lst)\n",
    "    recall_lst = []\n",
    "    pre_lst = []\n",
    "    \n",
    "    for user_id in tqdm(unique_user_id):\n",
    "        idx = torch.where(user_lst==user_id)[0]\n",
    "        preds = pred_lst[idx]\n",
    "        targets = target_lst[idx]\n",
    "        items = item_lst[idx]\n",
    "\n",
    "        top_k_preds = items[preds.topk(k, dim=0).indices.cpu().numpy()]\n",
    "\n",
    "        gt = items[targets==1]\n",
    "        if(gt.shape[0] == 0):\n",
    "            continue\n",
    "        \n",
    "        recall_lst.append((np.isin(top_k_preds, gt))/(gt.shape[0]))\n",
    "        pre_lst.append((np.isin(top_k_preds, gt))/(k))\n",
    "            \n",
    "    return np.mean(recall_lst), np.mean(pre_lst)\n",
    "\n",
    "\n",
    "\n",
    "best_val_recall = -float('inf')\n",
    "patience_counter = 0\n",
    "\n",
    "for epoch in range(num_epochs):\n",
    "\n",
    "    model.train()\n",
    "    total_loss = 0\n",
    "    for user_idx, item_idx, target in tqdm(train_loader):\n",
    "        optimizer.zero_grad()\n",
    "        outputs = model(user_idx.cuda(), item_idx.cuda())\n",
    "        loss = criterion(outputs, target.cuda())\n",
    "\n",
    "        loss.backward()\n",
    "        optimizer.step()\n",
    "        total_loss += loss.detach().cpu().item()\n",
    "\n",
    "    model.eval()\n",
    "    with torch.no_grad():\n",
    "        pred_lst, target_lst, user_lst, item_lst = [], [], [], []\n",
    "        for full_rank_data in tqdm(test_loader):\n",
    "            user_idx, item_idx, target  = full_rank_data[:, :, 0], full_rank_data[:, :, 1], full_rank_data[:, :, 2]\n",
    "            preds = model(user_idx.cuda(), item_idx.cuda())\n",
    "\n",
    "            pred_lst.append(preds.view(-1).detach().cpu())\n",
    "            target_lst.append(target.view(-1).detach().cpu())\n",
    "            user_lst.append(user_idx.view(-1).detach().cpu())\n",
    "            item_lst.append(item_idx.view(-1).detach().cpu())\n",
    "\n",
    "    pred_lst = torch.cat(pred_lst)\n",
    "    target_lst = torch.cat(target_lst)\n",
    "    user_lst = torch.cat(user_lst)\n",
    "    item_lst = torch.cat(item_lst)\n",
    "    recall_20, pre_20 = recall_pre_at_k_per_user(user_lst, item_lst, pred_lst, target_lst, k=20)\n",
    "    \n",
    "    print(f'Epoch [{epoch+1}/{num_epochs}], Loss: {total_loss/len(train_loader):.4f}, '\n",
    "            f'Precision@20: {pre_20:.4f}, Recall@20: {recall_20:.10f}')\n",
    "    \n",
    "    # Early stopping\n",
    "    if recall_20 > best_val_recall:\n",
    "        best_val_recall = recall_20\n",
    "        patience_counter = 0\n",
    "        model_parameters = deepcopy(model.state_dict())\n",
    "    else:\n",
    "        patience_counter += 1\n",
    "        if patience_counter >= early_stopping_patience:\n",
    "            print(\"Early stopping triggered\")\n",
    "            break\n"
   ]
  },
  {
   "cell_type": "code",
   "execution_count": 13,
   "metadata": {},
   "outputs": [
    {
     "name": "stderr",
     "output_type": "stream",
     "text": [
      "100%|██████████| 13/13 [00:30<00:00,  2.32s/it]\n",
      "100%|██████████| 400/400 [00:20<00:00, 19.52it/s]\n"
     ]
    },
    {
     "data": {
      "text/plain": [
       "(9.614821276692984e-06, 1.25e-05)"
      ]
     },
     "execution_count": 13,
     "metadata": {},
     "output_type": "execute_result"
    }
   ],
   "source": [
    "model.load_state_dict(model_parameters)\n",
    "\n",
    "model.eval()\n",
    "with torch.no_grad():\n",
    "    pred_lst, target_lst, user_lst, item_lst = [], [], [], []\n",
    "    for full_rank_data in tqdm(test_loader):\n",
    "        user_idx, item_idx, target  = full_rank_data[:, :, 0], full_rank_data[:, :, 1], full_rank_data[:, :, 2]\n",
    "        preds = model(user_idx.cuda(), item_idx.cuda())\n",
    "\n",
    "        pred_lst.append(preds.view(-1).detach().cpu())\n",
    "        target_lst.append(target.view(-1).detach().cpu())\n",
    "        user_lst.append(user_idx.view(-1).detach().cpu())\n",
    "        item_lst.append(item_idx.view(-1).detach().cpu())\n",
    "\n",
    "pred_lst = torch.cat(pred_lst)\n",
    "target_lst = torch.cat(target_lst)\n",
    "user_lst = torch.cat(user_lst)\n",
    "item_lst = torch.cat(item_lst)\n",
    "recall_20, pre_20 = recall_pre_at_k_per_user(user_lst, item_lst, pred_lst, target_lst, k=100)\n",
    "\n",
    "recall_20, pre_20"
   ]
  },
  {
   "cell_type": "code",
   "execution_count": 14,
   "metadata": {},
   "outputs": [],
   "source": [
    "torch.save({\n",
    "    \"state_dict\": model.cpu().state_dict(), \n",
    "    \"num_users\": num_uesrs, \n",
    "    \"num_items\": num_items, \n",
    "    \"embedding_dim\": embedding_dim, \n",
    "}, \"../parameters/twotower.pth\")"
   ]
  }
 ],
 "metadata": {
  "kernelspec": {
   "display_name": "fyi_39",
   "language": "python",
   "name": "python3"
  },
  "language_info": {
   "codemirror_mode": {
    "name": "ipython",
    "version": 3
   },
   "file_extension": ".py",
   "mimetype": "text/x-python",
   "name": "python",
   "nbconvert_exporter": "python",
   "pygments_lexer": "ipython3",
   "version": "3.9.18"
  }
 },
 "nbformat": 4,
 "nbformat_minor": 2
}
