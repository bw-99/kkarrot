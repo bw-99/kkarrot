{
 "cells": [
  {
   "cell_type": "code",
   "execution_count": 1,
   "metadata": {},
   "outputs": [
    {
     "data": {
      "text/html": [
       "<div>\n",
       "<style scoped>\n",
       "    .dataframe tbody tr th:only-of-type {\n",
       "        vertical-align: middle;\n",
       "    }\n",
       "\n",
       "    .dataframe tbody tr th {\n",
       "        vertical-align: top;\n",
       "    }\n",
       "\n",
       "    .dataframe thead th {\n",
       "        text-align: right;\n",
       "    }\n",
       "</style>\n",
       "<table border=\"1\" class=\"dataframe\">\n",
       "  <thead>\n",
       "    <tr style=\"text-align: right;\">\n",
       "      <th></th>\n",
       "      <th>user_id</th>\n",
       "      <th>date</th>\n",
       "      <th>item_id</th>\n",
       "      <th>rating</th>\n",
       "      <th>is_head</th>\n",
       "    </tr>\n",
       "  </thead>\n",
       "  <tbody>\n",
       "    <tr>\n",
       "      <th>0</th>\n",
       "      <td>5</td>\n",
       "      <td>2015-03-27</td>\n",
       "      <td>[1740, 2122, 5909, 7031, 10230, 10229]</td>\n",
       "      <td>[4.0, 5.0, 4.0, 5.0, 4.0, 5.0]</td>\n",
       "      <td>[0, 1, 1, 1, 1, 1]</td>\n",
       "    </tr>\n",
       "    <tr>\n",
       "      <th>1</th>\n",
       "      <td>5</td>\n",
       "      <td>2016-02-24</td>\n",
       "      <td>[6468, 7833, 7390, 5752, 15457, 26034]</td>\n",
       "      <td>[4.0, 4.0, 5.0, 4.0, 5.0, 5.0]</td>\n",
       "      <td>[0, 0, 0, 1, 1, 1]</td>\n",
       "    </tr>\n",
       "    <tr>\n",
       "      <th>2</th>\n",
       "      <td>5</td>\n",
       "      <td>2016-02-24</td>\n",
       "      <td>[7833, 7390, 5752, 15457, 26034, 10345]</td>\n",
       "      <td>[4.0, 5.0, 4.0, 5.0, 5.0, 5.0]</td>\n",
       "      <td>[0, 0, 1, 1, 1, 1]</td>\n",
       "    </tr>\n",
       "    <tr>\n",
       "      <th>3</th>\n",
       "      <td>5</td>\n",
       "      <td>2016-02-24</td>\n",
       "      <td>[7390, 5752, 15457, 26034, 10345, 18335]</td>\n",
       "      <td>[5.0, 4.0, 5.0, 5.0, 5.0, 5.0]</td>\n",
       "      <td>[0, 1, 1, 1, 1, 1]</td>\n",
       "    </tr>\n",
       "    <tr>\n",
       "      <th>4</th>\n",
       "      <td>9</td>\n",
       "      <td>2014-03-04</td>\n",
       "      <td>[450, 451, 12373, 24897, 4126, 18538]</td>\n",
       "      <td>[5.0, 5.0, 2.0, 1.0, 5.0, 4.0]</td>\n",
       "      <td>[0, 0, 0, 1, 1, 1]</td>\n",
       "    </tr>\n",
       "    <tr>\n",
       "      <th>...</th>\n",
       "      <td>...</td>\n",
       "      <td>...</td>\n",
       "      <td>...</td>\n",
       "      <td>...</td>\n",
       "      <td>...</td>\n",
       "    </tr>\n",
       "    <tr>\n",
       "      <th>16888</th>\n",
       "      <td>4993</td>\n",
       "      <td>2019-04-09</td>\n",
       "      <td>[8394, 12235, 25185, 21281, 23606, 14018]</td>\n",
       "      <td>[3.0, 5.0, 5.0, 4.0, 5.0, 5.0]</td>\n",
       "      <td>[1, 1, 1, 1, 1, 1]</td>\n",
       "    </tr>\n",
       "    <tr>\n",
       "      <th>16889</th>\n",
       "      <td>4993</td>\n",
       "      <td>2019-04-09</td>\n",
       "      <td>[12235, 25185, 21281, 23606, 14018, 21547]</td>\n",
       "      <td>[5.0, 5.0, 4.0, 5.0, 5.0, 5.0]</td>\n",
       "      <td>[1, 1, 1, 1, 1, 1]</td>\n",
       "    </tr>\n",
       "    <tr>\n",
       "      <th>16890</th>\n",
       "      <td>4993</td>\n",
       "      <td>2019-09-16</td>\n",
       "      <td>[15370, 5784, 17893, 16523, 11703, 7327]</td>\n",
       "      <td>[5.0, 4.0, 5.0, 4.0, 4.0, 5.0]</td>\n",
       "      <td>[0, 0, 0, 0, 1, 1]</td>\n",
       "    </tr>\n",
       "    <tr>\n",
       "      <th>16891</th>\n",
       "      <td>4993</td>\n",
       "      <td>2019-09-16</td>\n",
       "      <td>[5784, 17893, 16523, 11703, 7327, 27390]</td>\n",
       "      <td>[4.0, 5.0, 4.0, 4.0, 5.0, 3.0]</td>\n",
       "      <td>[0, 0, 0, 1, 1, 1]</td>\n",
       "    </tr>\n",
       "    <tr>\n",
       "      <th>16892</th>\n",
       "      <td>4993</td>\n",
       "      <td>2019-09-16</td>\n",
       "      <td>[17893, 16523, 11703, 7327, 27390, 14655]</td>\n",
       "      <td>[5.0, 4.0, 4.0, 5.0, 3.0, 5.0]</td>\n",
       "      <td>[0, 0, 1, 1, 1, 1]</td>\n",
       "    </tr>\n",
       "  </tbody>\n",
       "</table>\n",
       "<p>16893 rows × 5 columns</p>\n",
       "</div>"
      ],
      "text/plain": [
       "       user_id        date                                     item_id  \\\n",
       "0            5  2015-03-27      [1740, 2122, 5909, 7031, 10230, 10229]   \n",
       "1            5  2016-02-24      [6468, 7833, 7390, 5752, 15457, 26034]   \n",
       "2            5  2016-02-24     [7833, 7390, 5752, 15457, 26034, 10345]   \n",
       "3            5  2016-02-24    [7390, 5752, 15457, 26034, 10345, 18335]   \n",
       "4            9  2014-03-04       [450, 451, 12373, 24897, 4126, 18538]   \n",
       "...        ...         ...                                         ...   \n",
       "16888     4993  2019-04-09   [8394, 12235, 25185, 21281, 23606, 14018]   \n",
       "16889     4993  2019-04-09  [12235, 25185, 21281, 23606, 14018, 21547]   \n",
       "16890     4993  2019-09-16    [15370, 5784, 17893, 16523, 11703, 7327]   \n",
       "16891     4993  2019-09-16    [5784, 17893, 16523, 11703, 7327, 27390]   \n",
       "16892     4993  2019-09-16   [17893, 16523, 11703, 7327, 27390, 14655]   \n",
       "\n",
       "                               rating             is_head  \n",
       "0      [4.0, 5.0, 4.0, 5.0, 4.0, 5.0]  [0, 1, 1, 1, 1, 1]  \n",
       "1      [4.0, 4.0, 5.0, 4.0, 5.0, 5.0]  [0, 0, 0, 1, 1, 1]  \n",
       "2      [4.0, 5.0, 4.0, 5.0, 5.0, 5.0]  [0, 0, 1, 1, 1, 1]  \n",
       "3      [5.0, 4.0, 5.0, 5.0, 5.0, 5.0]  [0, 1, 1, 1, 1, 1]  \n",
       "4      [5.0, 5.0, 2.0, 1.0, 5.0, 4.0]  [0, 0, 0, 1, 1, 1]  \n",
       "...                               ...                 ...  \n",
       "16888  [3.0, 5.0, 5.0, 4.0, 5.0, 5.0]  [1, 1, 1, 1, 1, 1]  \n",
       "16889  [5.0, 5.0, 4.0, 5.0, 5.0, 5.0]  [1, 1, 1, 1, 1, 1]  \n",
       "16890  [5.0, 4.0, 5.0, 4.0, 4.0, 5.0]  [0, 0, 0, 0, 1, 1]  \n",
       "16891  [4.0, 5.0, 4.0, 4.0, 5.0, 3.0]  [0, 0, 0, 1, 1, 1]  \n",
       "16892  [5.0, 4.0, 4.0, 5.0, 3.0, 5.0]  [0, 0, 1, 1, 1, 1]  \n",
       "\n",
       "[16893 rows x 5 columns]"
      ]
     },
     "execution_count": 1,
     "metadata": {},
     "output_type": "execute_result"
    }
   ],
   "source": [
    "import pandas as pd\n",
    "import numpy as np\n",
    "import torch\n",
    "import torch.nn as nn\n",
    "import torch.nn.functional as F\n",
    "\n",
    "rating_df = pd.read_pickle(\"../../data/processed/rating_session.pkl\")\n",
    "longtail_df = pd.read_pickle(\"../../data/processed/longtail_indicator.pkl\")\n",
    "\n",
    "num_items = longtail_df[\"item_id\"].max() + 1\n",
    "rating_df"
   ]
  },
  {
   "cell_type": "code",
   "execution_count": 2,
   "metadata": {},
   "outputs": [
    {
     "data": {
      "text/plain": [
       "27583"
      ]
     },
     "execution_count": 2,
     "metadata": {},
     "output_type": "execute_result"
    }
   ],
   "source": [
    "num_items"
   ]
  },
  {
   "cell_type": "code",
   "execution_count": 3,
   "metadata": {},
   "outputs": [
    {
     "data": {
      "text/html": [
       "<div>\n",
       "<style scoped>\n",
       "    .dataframe tbody tr th:only-of-type {\n",
       "        vertical-align: middle;\n",
       "    }\n",
       "\n",
       "    .dataframe tbody tr th {\n",
       "        vertical-align: top;\n",
       "    }\n",
       "\n",
       "    .dataframe thead th {\n",
       "        text-align: right;\n",
       "    }\n",
       "</style>\n",
       "<table border=\"1\" class=\"dataframe\">\n",
       "  <thead>\n",
       "    <tr style=\"text-align: right;\">\n",
       "      <th></th>\n",
       "      <th>item_id</th>\n",
       "      <th>is_head</th>\n",
       "      <th>item_len</th>\n",
       "    </tr>\n",
       "  </thead>\n",
       "  <tbody>\n",
       "    <tr>\n",
       "      <th>0</th>\n",
       "      <td>0</td>\n",
       "      <td>0</td>\n",
       "      <td>3</td>\n",
       "    </tr>\n",
       "    <tr>\n",
       "      <th>1</th>\n",
       "      <td>1</td>\n",
       "      <td>0</td>\n",
       "      <td>2</td>\n",
       "    </tr>\n",
       "    <tr>\n",
       "      <th>2</th>\n",
       "      <td>2</td>\n",
       "      <td>0</td>\n",
       "      <td>4</td>\n",
       "    </tr>\n",
       "    <tr>\n",
       "      <th>3</th>\n",
       "      <td>3</td>\n",
       "      <td>0</td>\n",
       "      <td>7</td>\n",
       "    </tr>\n",
       "    <tr>\n",
       "      <th>4</th>\n",
       "      <td>4</td>\n",
       "      <td>0</td>\n",
       "      <td>3</td>\n",
       "    </tr>\n",
       "    <tr>\n",
       "      <th>...</th>\n",
       "      <td>...</td>\n",
       "      <td>...</td>\n",
       "      <td>...</td>\n",
       "    </tr>\n",
       "    <tr>\n",
       "      <th>27578</th>\n",
       "      <td>27578</td>\n",
       "      <td>0</td>\n",
       "      <td>5</td>\n",
       "    </tr>\n",
       "    <tr>\n",
       "      <th>27579</th>\n",
       "      <td>27579</td>\n",
       "      <td>0</td>\n",
       "      <td>3</td>\n",
       "    </tr>\n",
       "    <tr>\n",
       "      <th>27580</th>\n",
       "      <td>27580</td>\n",
       "      <td>1</td>\n",
       "      <td>15</td>\n",
       "    </tr>\n",
       "    <tr>\n",
       "      <th>27581</th>\n",
       "      <td>27581</td>\n",
       "      <td>1</td>\n",
       "      <td>15</td>\n",
       "    </tr>\n",
       "    <tr>\n",
       "      <th>27582</th>\n",
       "      <td>27582</td>\n",
       "      <td>0</td>\n",
       "      <td>7</td>\n",
       "    </tr>\n",
       "  </tbody>\n",
       "</table>\n",
       "<p>27583 rows × 3 columns</p>\n",
       "</div>"
      ],
      "text/plain": [
       "       item_id  is_head  item_len\n",
       "0            0        0         3\n",
       "1            1        0         2\n",
       "2            2        0         4\n",
       "3            3        0         7\n",
       "4            4        0         3\n",
       "...        ...      ...       ...\n",
       "27578    27578        0         5\n",
       "27579    27579        0         3\n",
       "27580    27580        1        15\n",
       "27581    27581        1        15\n",
       "27582    27582        0         7\n",
       "\n",
       "[27583 rows x 3 columns]"
      ]
     },
     "execution_count": 3,
     "metadata": {},
     "output_type": "execute_result"
    }
   ],
   "source": [
    "longtail_df = longtail_df.sort_values(\"item_id\").reset_index(drop=True)\n",
    "longtail_df"
   ]
  },
  {
   "cell_type": "code",
   "execution_count": 4,
   "metadata": {},
   "outputs": [
    {
     "data": {
      "text/plain": [
       "27583"
      ]
     },
     "execution_count": 4,
     "metadata": {},
     "output_type": "execute_result"
    }
   ],
   "source": [
    "num_items"
   ]
  },
  {
   "cell_type": "code",
   "execution_count": 5,
   "metadata": {},
   "outputs": [
    {
     "data": {
      "text/plain": [
       "27582"
      ]
     },
     "execution_count": 5,
     "metadata": {},
     "output_type": "execute_result"
    }
   ],
   "source": [
    "longtail_df[\"item_id\"].max()"
   ]
  },
  {
   "cell_type": "code",
   "execution_count": 6,
   "metadata": {},
   "outputs": [
    {
     "name": "stdout",
     "output_type": "stream",
     "text": [
      "torch.Size([22067]) torch.Size([5516])\n"
     ]
    }
   ],
   "source": [
    "head_mapping_lst = torch.tensor(longtail_df[\"is_head\"].tolist()).long().cuda()\n",
    "item_id_lst = torch.tensor(longtail_df[\"item_id\"].tolist()).long()\n",
    "print(head_mapping_lst[head_mapping_lst==0].shape, head_mapping_lst[head_mapping_lst==1].shape)"
   ]
  },
  {
   "cell_type": "code",
   "execution_count": 7,
   "metadata": {},
   "outputs": [
    {
     "data": {
      "text/plain": [
       "tensor([ True,  True,  True,  ..., False, False,  True], device='cuda:0')"
      ]
     },
     "execution_count": 7,
     "metadata": {},
     "output_type": "execute_result"
    }
   ],
   "source": [
    "head_mapping_lst==0"
   ]
  },
  {
   "cell_type": "code",
   "execution_count": 8,
   "metadata": {},
   "outputs": [
    {
     "data": {
      "text/plain": [
       "(tensor([    0,     1,     2,  ..., 27580, 27581, 27582]),\n",
       " tensor([0, 0, 0,  ..., 1, 1, 0], device='cuda:0'))"
      ]
     },
     "execution_count": 8,
     "metadata": {},
     "output_type": "execute_result"
    }
   ],
   "source": [
    "item_id_lst, head_mapping_lst"
   ]
  },
  {
   "cell_type": "code",
   "execution_count": 9,
   "metadata": {},
   "outputs": [
    {
     "data": {
      "text/plain": [
       "torch.Size([27583])"
      ]
     },
     "execution_count": 9,
     "metadata": {},
     "output_type": "execute_result"
    }
   ],
   "source": [
    "torch.unique(item_id_lst).shape"
   ]
  },
  {
   "cell_type": "code",
   "execution_count": 10,
   "metadata": {},
   "outputs": [],
   "source": [
    "from sklearn.model_selection import train_test_split\n",
    "from torch.utils.data import DataLoader, Dataset\n",
    "\n",
    "item_sequences = rating_df['item_id'].tolist()\n",
    "user_ids = rating_df['user_id'].tolist()\n",
    "\n",
    "\n",
    "class SessionDataset(Dataset):\n",
    "    def __init__(self, sequences):\n",
    "        self.sequences = sequences\n",
    "\n",
    "    def __len__(self):\n",
    "        return len(self.sequences)\n",
    "\n",
    "    def __getitem__(self, idx):\n",
    "        sequence = self.sequences[idx]\n",
    "        return torch.tensor(sequence[:-1]), torch.tensor(sequence[-1])\n",
    "    \n",
    "train_data, test_data = train_test_split(item_sequences, test_size=0.2, random_state=42)\n",
    "\n",
    "# Hyperparameters\n",
    "embedding_dim = 128\n",
    "hidden_dim = 128\n",
    "num_epochs = 1000\n",
    "learning_rate = 5e-4\n",
    "batch_size = 512\n",
    "# 512 1e-4 0.4369\n",
    "# 512 53-5 0.4404\n",
    "\n",
    "train_loader = DataLoader(SessionDataset(train_data), batch_size=batch_size, shuffle=True)\n",
    "test_loader = DataLoader(SessionDataset(test_data), batch_size=batch_size, shuffle=False)"
   ]
  },
  {
   "cell_type": "code",
   "execution_count": 11,
   "metadata": {},
   "outputs": [],
   "source": [
    "import torch.optim as optim\n",
    "import sys\n",
    "sys.path.append(\"../\")\n",
    "from model import TailNet\n",
    "\n",
    "\n",
    "\n",
    "model = TailNet(num_items, embedding_dim, hidden_dim, head_mapping_lst).cuda()\n",
    "\n",
    "criterion = nn.CrossEntropyLoss()\n",
    "optimizer = optim.Adam(model.parameters(), lr=learning_rate)"
   ]
  },
  {
   "cell_type": "code",
   "execution_count": 12,
   "metadata": {},
   "outputs": [
    {
     "data": {
      "text/plain": [
       "(27583, tensor(27582))"
      ]
     },
     "execution_count": 12,
     "metadata": {},
     "output_type": "execute_result"
    }
   ],
   "source": [
    "num_items, item_id_lst.max()"
   ]
  },
  {
   "cell_type": "code",
   "execution_count": 13,
   "metadata": {},
   "outputs": [
    {
     "name": "stderr",
     "output_type": "stream",
     "text": [
      "  0%|          | 0/27 [00:00<?, ?it/s]"
     ]
    },
    {
     "name": "stderr",
     "output_type": "stream",
     "text": [
      "100%|██████████| 27/27 [00:01<00:00, 19.99it/s]\n",
      "100%|██████████| 7/7 [00:00<00:00, 49.01it/s]\n"
     ]
    },
    {
     "name": "stdout",
     "output_type": "stream",
     "text": [
      "Epoch [1/1000], Loss: 10.2250, Val Loss: 10.2250,  Recall@20: 0.0053 Tail@20: 0.1173\n"
     ]
    },
    {
     "name": "stderr",
     "output_type": "stream",
     "text": [
      "100%|██████████| 27/27 [00:01<00:00, 22.66it/s]\n",
      "100%|██████████| 7/7 [00:00<00:00, 35.67it/s]\n"
     ]
    },
    {
     "name": "stdout",
     "output_type": "stream",
     "text": [
      "Epoch [2/1000], Loss: 10.2250, Val Loss: 10.2249,  Recall@20: 0.0299 Tail@20: 0.0877\n"
     ]
    },
    {
     "name": "stderr",
     "output_type": "stream",
     "text": [
      "100%|██████████| 27/27 [00:01<00:00, 23.72it/s]\n",
      "100%|██████████| 7/7 [00:00<00:00, 50.93it/s]\n"
     ]
    },
    {
     "name": "stdout",
     "output_type": "stream",
     "text": [
      "Epoch [3/1000], Loss: 10.2215, Val Loss: 10.2207,  Recall@20: 0.0509 Tail@20: 0.1269\n"
     ]
    },
    {
     "name": "stderr",
     "output_type": "stream",
     "text": [
      "100%|██████████| 27/27 [00:01<00:00, 23.29it/s]\n",
      "100%|██████████| 7/7 [00:00<00:00, 49.00it/s]\n"
     ]
    },
    {
     "name": "stdout",
     "output_type": "stream",
     "text": [
      "Epoch [4/1000], Loss: 10.2194, Val Loss: 10.2207,  Recall@20: 0.0521 Tail@20: 0.1334\n"
     ]
    },
    {
     "name": "stderr",
     "output_type": "stream",
     "text": [
      "100%|██████████| 27/27 [00:01<00:00, 24.16it/s]\n",
      "100%|██████████| 7/7 [00:00<00:00, 51.73it/s]\n"
     ]
    },
    {
     "name": "stdout",
     "output_type": "stream",
     "text": [
      "Epoch [5/1000], Loss: 10.2186, Val Loss: 10.2207,  Recall@20: 0.0539 Tail@20: 0.1338\n"
     ]
    },
    {
     "name": "stderr",
     "output_type": "stream",
     "text": [
      "100%|██████████| 27/27 [00:01<00:00, 21.85it/s]\n",
      "100%|██████████| 7/7 [00:00<00:00, 49.20it/s]\n"
     ]
    },
    {
     "name": "stdout",
     "output_type": "stream",
     "text": [
      "Epoch [6/1000], Loss: 10.2183, Val Loss: 10.2214,  Recall@20: 0.0633 Tail@20: 0.1353\n"
     ]
    },
    {
     "name": "stderr",
     "output_type": "stream",
     "text": [
      "100%|██████████| 27/27 [00:01<00:00, 24.16it/s]\n",
      "100%|██████████| 7/7 [00:00<00:00, 30.31it/s]\n"
     ]
    },
    {
     "name": "stdout",
     "output_type": "stream",
     "text": [
      "Epoch [7/1000], Loss: 10.2162, Val Loss: 10.2214,  Recall@20: 0.0630 Tail@20: 0.1365\n"
     ]
    },
    {
     "name": "stderr",
     "output_type": "stream",
     "text": [
      "100%|██████████| 27/27 [00:01<00:00, 24.07it/s]\n",
      "100%|██████████| 7/7 [00:00<00:00, 51.19it/s]\n"
     ]
    },
    {
     "name": "stdout",
     "output_type": "stream",
     "text": [
      "Epoch [8/1000], Loss: 10.2111, Val Loss: 10.2214,  Recall@20: 0.0604 Tail@20: 0.1367\n"
     ]
    },
    {
     "name": "stderr",
     "output_type": "stream",
     "text": [
      "100%|██████████| 27/27 [00:01<00:00, 22.95it/s]\n",
      "100%|██████████| 7/7 [00:00<00:00, 45.92it/s]\n"
     ]
    },
    {
     "name": "stdout",
     "output_type": "stream",
     "text": [
      "Epoch [9/1000], Loss: 10.2044, Val Loss: 10.2214,  Recall@20: 0.0536 Tail@20: 0.1368\n"
     ]
    },
    {
     "name": "stderr",
     "output_type": "stream",
     "text": [
      "100%|██████████| 27/27 [00:01<00:00, 22.39it/s]\n",
      "100%|██████████| 7/7 [00:00<00:00, 50.78it/s]\n"
     ]
    },
    {
     "name": "stdout",
     "output_type": "stream",
     "text": [
      "Epoch [10/1000], Loss: 10.1982, Val Loss: 10.2211,  Recall@20: 0.0512 Tail@20: 0.1370\n"
     ]
    },
    {
     "name": "stderr",
     "output_type": "stream",
     "text": [
      "100%|██████████| 27/27 [00:01<00:00, 23.39it/s]\n",
      "100%|██████████| 7/7 [00:00<00:00, 51.79it/s]\n"
     ]
    },
    {
     "name": "stdout",
     "output_type": "stream",
     "text": [
      "Epoch [11/1000], Loss: 10.1948, Val Loss: 10.2203,  Recall@20: 0.0497 Tail@20: 0.1372\n",
      "Early stopping triggered\n"
     ]
    }
   ],
   "source": [
    "from sklearn.metrics import recall_score\n",
    "from tqdm import tqdm\n",
    "from copy import deepcopy\n",
    "import warnings\n",
    "warnings.filterwarnings('always')\n",
    "\n",
    "model_parameters = deepcopy(model.state_dict())\n",
    "K=20\n",
    "\n",
    "recall_records, tail_records = [], []\n",
    "\n",
    "def train_and_evaluate(model, train_loader, val_loader, criterion, optimizer, num_epochs, early_stopping_patience=5):\n",
    "    global model_parameters\n",
    "    best_val_recall = -float('inf')\n",
    "    patience_counter = 0\n",
    "    \n",
    "    for epoch in range(num_epochs):\n",
    "        model.train()\n",
    "        total_loss = 0\n",
    "        for inputs, target in tqdm(train_loader):\n",
    "            optimizer.zero_grad()\n",
    "            is_head = head_mapping_lst[inputs.cuda()]\n",
    "            outputs = model(inputs.cuda())\n",
    "            loss = criterion(outputs, target.cuda())\n",
    "\n",
    "            loss.backward()\n",
    "            optimizer.step()\n",
    "            total_loss += loss.detach().cpu().item()\n",
    "\n",
    "        val_loss, val_recall, val_tail = evaluate(model, val_loader, criterion)\n",
    "        recall_records.append(val_recall)\n",
    "        tail_records.append(val_tail)\n",
    "        \n",
    "        print(f'Epoch [{epoch+1}/{num_epochs}], Loss: {total_loss/len(train_loader):.4f}, '\n",
    "              f'Val Loss: {val_loss:.4f},  Recall@20: {val_recall:.4f} Tail@20: {val_tail:.4f}')\n",
    "        \n",
    "        if val_recall > best_val_recall:\n",
    "            best_val_recall = val_recall\n",
    "            patience_counter = 0\n",
    "            model_parameters = deepcopy(model.state_dict())\n",
    "        else:\n",
    "            patience_counter += 1\n",
    "            if patience_counter >= early_stopping_patience:\n",
    "                print(\"Early stopping triggered\")\n",
    "                break\n",
    "\n",
    "def evaluate(model, data_loader, criterion):\n",
    "    model.eval()\n",
    "    total_loss = 0\n",
    "\n",
    "    pred_lst, target_lst = [], []\n",
    "    tail_lst = []\n",
    "    \n",
    "    with torch.no_grad():\n",
    "        for idx, (inputs, target) in enumerate(tqdm(data_loader)):\n",
    "            outputs = model(inputs.cuda())\n",
    "            loss = criterion(outputs, target.cuda())\n",
    "            total_loss += loss.detach().cpu().item()\n",
    "\n",
    "            top_pred_idx = torch.argsort(outputs, dim=1, descending=True)[:, :K]\n",
    "            tail_lst.append(head_mapping_lst[top_pred_idx])\n",
    "\n",
    "            pred_lst.append(top_pred_idx.detach().cpu())\n",
    "            target_lst.append(target.unsqueeze(dim=1).detach().cpu())\n",
    "    \n",
    "    pred_lst = torch.cat(pred_lst, dim=0)\n",
    "    target_lst = torch.cat(target_lst, dim=0)\n",
    "    tail_lst = torch.cat(tail_lst, dim=0)\n",
    "\n",
    "    recall, tail = [], []\n",
    "    for pred_idx, target_idx, is_tail in zip(pred_lst, target_lst, tail_lst):\n",
    "        num_hit = target_idx[torch.isin(target_idx, pred_idx)].shape[0]\n",
    "        recall.append(num_hit/target_idx.shape[0])\n",
    "        # print(is_tail, is_tail.shape, is_tail[is_tail==0].shape[0], is_tail[is_tail==0].shape[0]/K)\n",
    "        tail.append(is_tail[is_tail==0].shape[0]/K)\n",
    "\n",
    "    avg_loss = total_loss / len(data_loader)\n",
    "    avg_recall = np.mean(recall)    \n",
    "    avg_tail = np.mean(tail)\n",
    "    return avg_loss, avg_recall, avg_tail\n",
    "\n",
    "train_and_evaluate(model, train_loader, test_loader, criterion, optimizer, num_epochs)\n"
   ]
  },
  {
   "cell_type": "code",
   "execution_count": 14,
   "metadata": {},
   "outputs": [
    {
     "name": "stderr",
     "output_type": "stream",
     "text": [
      "100%|██████████| 7/7 [00:00<00:00, 46.47it/s]\n"
     ]
    },
    {
     "name": "stdout",
     "output_type": "stream",
     "text": [
      "10.221359389168876 0.06333234684817994 0.1352619118082273\n"
     ]
    }
   ],
   "source": [
    "model.load_state_dict(model_parameters)\n",
    "\n",
    "avg_loss, avg_recall, avg_tail = evaluate(model, test_loader, criterion)\n",
    "print(avg_loss, avg_recall, avg_tail)\n",
    "\n",
    "# 12.022144079208374 0.3539857738533235"
   ]
  },
  {
   "cell_type": "code",
   "execution_count": 15,
   "metadata": {},
   "outputs": [
    {
     "data": {
      "image/png": "[encoded data removed]",
      "text/plain": [
       "<Figure size 640x480 with 2 Axes>"
      ]
     },
     "metadata": {},
     "output_type": "display_data"
    }
   ],
   "source": [
    "import matplotlib.pyplot as plt\n",
    "import numpy as np\n",
    "\n",
    "x = np.arange(0, len(recall_records))\n",
    "\n",
    "fig, ax1 = plt.subplots()\n",
    "\n",
    "ax1.plot(x, recall_records, 'b', label=f'recall@{K}')\n",
    "ax1.set_xlabel('epochs')\n",
    "ax1.tick_params(axis='y', labelcolor='b')\n",
    "\n",
    "ax2 = ax1.twinx()\n",
    "ax2.plot(x, tail_records, 'r-', label=f'tail@{K}')\n",
    "ax2.tick_params(axis='y', labelcolor='r')\n",
    "\n",
    "fig.legend()\n",
    "\n",
    "plt.show()\n"
   ]
  },
  {
   "cell_type": "code",
   "execution_count": 16,
   "metadata": {},
   "outputs": [],
   "source": [
    "torch.save({\n",
    "    \"state_dict\": model.cpu().state_dict(),\n",
    "    \"num_items\": num_items,\n",
    "    \"embedding_dim\":embedding_dim,\n",
    "    \"hidden_dim\": hidden_dim\n",
    "}, \"../parameters/session.pth\")"
   ]
  }
 ],
 "metadata": {
  "kernelspec": {
   "display_name": "fyi_39",
   "language": "python",
   "name": "python3"
  },
  "language_info": {
   "codemirror_mode": {
    "name": "ipython",
    "version": 3
   },
   "file_extension": ".py",
   "mimetype": "text/x-python",
   "name": "python",
   "nbconvert_exporter": "python",
   "pygments_lexer": "ipython3",
   "version": "3.9.18"
  }
 },
 "nbformat": 4,
 "nbformat_minor": 2
}
