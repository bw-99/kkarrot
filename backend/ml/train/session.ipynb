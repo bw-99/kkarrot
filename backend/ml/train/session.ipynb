{
 "cells": [
  {
   "cell_type": "code",
   "execution_count": 1,
   "metadata": {},
   "outputs": [
    {
     "data": {
      "text/html": [
       "<div>\n",
       "<style scoped>\n",
       "    .dataframe tbody tr th:only-of-type {\n",
       "        vertical-align: middle;\n",
       "    }\n",
       "\n",
       "    .dataframe tbody tr th {\n",
       "        vertical-align: top;\n",
       "    }\n",
       "\n",
       "    .dataframe thead th {\n",
       "        text-align: right;\n",
       "    }\n",
       "</style>\n",
       "<table border=\"1\" class=\"dataframe\">\n",
       "  <thead>\n",
       "    <tr style=\"text-align: right;\">\n",
       "      <th></th>\n",
       "      <th>user_id</th>\n",
       "      <th>date</th>\n",
       "      <th>item_id</th>\n",
       "      <th>rating</th>\n",
       "      <th>is_head</th>\n",
       "    </tr>\n",
       "  </thead>\n",
       "  <tbody>\n",
       "    <tr>\n",
       "      <th>0</th>\n",
       "      <td>5</td>\n",
       "      <td>2015-03-27</td>\n",
       "      <td>[1740, 2122, 5909, 7031, 10230, 10229]</td>\n",
       "      <td>[4.0, 5.0, 4.0, 5.0, 4.0, 5.0]</td>\n",
       "      <td>[0, 1, 1, 1, 1, 1]</td>\n",
       "    </tr>\n",
       "    <tr>\n",
       "      <th>1</th>\n",
       "      <td>5</td>\n",
       "      <td>2016-02-24</td>\n",
       "      <td>[6468, 7833, 7390, 5752, 15457, 26034]</td>\n",
       "      <td>[4.0, 4.0, 5.0, 4.0, 5.0, 5.0]</td>\n",
       "      <td>[0, 0, 0, 1, 1, 1]</td>\n",
       "    </tr>\n",
       "    <tr>\n",
       "      <th>2</th>\n",
       "      <td>5</td>\n",
       "      <td>2016-02-24</td>\n",
       "      <td>[7833, 7390, 5752, 15457, 26034, 10345]</td>\n",
       "      <td>[4.0, 5.0, 4.0, 5.0, 5.0, 5.0]</td>\n",
       "      <td>[0, 0, 1, 1, 1, 1]</td>\n",
       "    </tr>\n",
       "    <tr>\n",
       "      <th>3</th>\n",
       "      <td>5</td>\n",
       "      <td>2016-02-24</td>\n",
       "      <td>[7390, 5752, 15457, 26034, 10345, 18335]</td>\n",
       "      <td>[5.0, 4.0, 5.0, 5.0, 5.0, 5.0]</td>\n",
       "      <td>[0, 1, 1, 1, 1, 1]</td>\n",
       "    </tr>\n",
       "    <tr>\n",
       "      <th>4</th>\n",
       "      <td>9</td>\n",
       "      <td>2014-03-04</td>\n",
       "      <td>[450, 451, 12373, 24897, 4126, 18538]</td>\n",
       "      <td>[5.0, 5.0, 2.0, 1.0, 5.0, 4.0]</td>\n",
       "      <td>[0, 0, 0, 1, 1, 1]</td>\n",
       "    </tr>\n",
       "    <tr>\n",
       "      <th>...</th>\n",
       "      <td>...</td>\n",
       "      <td>...</td>\n",
       "      <td>...</td>\n",
       "      <td>...</td>\n",
       "      <td>...</td>\n",
       "    </tr>\n",
       "    <tr>\n",
       "      <th>16888</th>\n",
       "      <td>4993</td>\n",
       "      <td>2019-04-09</td>\n",
       "      <td>[8394, 12235, 25185, 21281, 23606, 14018]</td>\n",
       "      <td>[3.0, 5.0, 5.0, 4.0, 5.0, 5.0]</td>\n",
       "      <td>[1, 1, 1, 1, 1, 1]</td>\n",
       "    </tr>\n",
       "    <tr>\n",
       "      <th>16889</th>\n",
       "      <td>4993</td>\n",
       "      <td>2019-04-09</td>\n",
       "      <td>[12235, 25185, 21281, 23606, 14018, 21547]</td>\n",
       "      <td>[5.0, 5.0, 4.0, 5.0, 5.0, 5.0]</td>\n",
       "      <td>[1, 1, 1, 1, 1, 1]</td>\n",
       "    </tr>\n",
       "    <tr>\n",
       "      <th>16890</th>\n",
       "      <td>4993</td>\n",
       "      <td>2019-09-16</td>\n",
       "      <td>[15370, 5784, 17893, 16523, 11703, 7327]</td>\n",
       "      <td>[5.0, 4.0, 5.0, 4.0, 4.0, 5.0]</td>\n",
       "      <td>[0, 0, 0, 0, 1, 1]</td>\n",
       "    </tr>\n",
       "    <tr>\n",
       "      <th>16891</th>\n",
       "      <td>4993</td>\n",
       "      <td>2019-09-16</td>\n",
       "      <td>[5784, 17893, 16523, 11703, 7327, 27390]</td>\n",
       "      <td>[4.0, 5.0, 4.0, 4.0, 5.0, 3.0]</td>\n",
       "      <td>[0, 0, 0, 1, 1, 1]</td>\n",
       "    </tr>\n",
       "    <tr>\n",
       "      <th>16892</th>\n",
       "      <td>4993</td>\n",
       "      <td>2019-09-16</td>\n",
       "      <td>[17893, 16523, 11703, 7327, 27390, 14655]</td>\n",
       "      <td>[5.0, 4.0, 4.0, 5.0, 3.0, 5.0]</td>\n",
       "      <td>[0, 0, 1, 1, 1, 1]</td>\n",
       "    </tr>\n",
       "  </tbody>\n",
       "</table>\n",
       "<p>16893 rows × 5 columns</p>\n",
       "</div>"
      ],
      "text/plain": [
       "       user_id        date                                     item_id  \\\n",
       "0            5  2015-03-27      [1740, 2122, 5909, 7031, 10230, 10229]   \n",
       "1            5  2016-02-24      [6468, 7833, 7390, 5752, 15457, 26034]   \n",
       "2            5  2016-02-24     [7833, 7390, 5752, 15457, 26034, 10345]   \n",
       "3            5  2016-02-24    [7390, 5752, 15457, 26034, 10345, 18335]   \n",
       "4            9  2014-03-04       [450, 451, 12373, 24897, 4126, 18538]   \n",
       "...        ...         ...                                         ...   \n",
       "16888     4993  2019-04-09   [8394, 12235, 25185, 21281, 23606, 14018]   \n",
       "16889     4993  2019-04-09  [12235, 25185, 21281, 23606, 14018, 21547]   \n",
       "16890     4993  2019-09-16    [15370, 5784, 17893, 16523, 11703, 7327]   \n",
       "16891     4993  2019-09-16    [5784, 17893, 16523, 11703, 7327, 27390]   \n",
       "16892     4993  2019-09-16   [17893, 16523, 11703, 7327, 27390, 14655]   \n",
       "\n",
       "                               rating             is_head  \n",
       "0      [4.0, 5.0, 4.0, 5.0, 4.0, 5.0]  [0, 1, 1, 1, 1, 1]  \n",
       "1      [4.0, 4.0, 5.0, 4.0, 5.0, 5.0]  [0, 0, 0, 1, 1, 1]  \n",
       "2      [4.0, 5.0, 4.0, 5.0, 5.0, 5.0]  [0, 0, 1, 1, 1, 1]  \n",
       "3      [5.0, 4.0, 5.0, 5.0, 5.0, 5.0]  [0, 1, 1, 1, 1, 1]  \n",
       "4      [5.0, 5.0, 2.0, 1.0, 5.0, 4.0]  [0, 0, 0, 1, 1, 1]  \n",
       "...                               ...                 ...  \n",
       "16888  [3.0, 5.0, 5.0, 4.0, 5.0, 5.0]  [1, 1, 1, 1, 1, 1]  \n",
       "16889  [5.0, 5.0, 4.0, 5.0, 5.0, 5.0]  [1, 1, 1, 1, 1, 1]  \n",
       "16890  [5.0, 4.0, 5.0, 4.0, 4.0, 5.0]  [0, 0, 0, 0, 1, 1]  \n",
       "16891  [4.0, 5.0, 4.0, 4.0, 5.0, 3.0]  [0, 0, 0, 1, 1, 1]  \n",
       "16892  [5.0, 4.0, 4.0, 5.0, 3.0, 5.0]  [0, 0, 1, 1, 1, 1]  \n",
       "\n",
       "[16893 rows x 5 columns]"
      ]
     },
     "execution_count": 1,
     "metadata": {},
     "output_type": "execute_result"
    }
   ],
   "source": [
    "import pandas as pd\n",
    "import numpy as np\n",
    "import torch\n",
    "import torch.nn as nn\n",
    "import torch.nn.functional as F\n",
    "\n",
    "longtail_df = pd.read_pickle(\"../../data/processed/longtail_indicator.pkl\")\n",
    "rating_df = pd.read_pickle(\"../../data/processed/rating_session.pkl\")\n",
    "\n",
    "num_items = longtail_df[\"item_id\"].max() + 1\n",
    "rating_df"
   ]
  },
  {
   "cell_type": "code",
   "execution_count": 2,
   "metadata": {},
   "outputs": [
    {
     "data": {
      "text/plain": [
       "27583"
      ]
     },
     "execution_count": 2,
     "metadata": {},
     "output_type": "execute_result"
    }
   ],
   "source": [
    "num_items"
   ]
  },
  {
   "cell_type": "code",
   "execution_count": 3,
   "metadata": {},
   "outputs": [
    {
     "data": {
      "text/plain": [
       "(torch.Size([8289]), torch.Size([4513]))"
      ]
     },
     "execution_count": 3,
     "metadata": {},
     "output_type": "execute_result"
    }
   ],
   "source": [
    "x = rating_df.explode([\"item_id\", \"is_head\", \"rating\"])[[\"item_id\", \"is_head\"]]\n",
    "x = x.drop_duplicates([\"item_id\", \"is_head\"])\n",
    "is_head_lst = torch.tensor(x[\"is_head\"].tolist()).long()\n",
    "item_id_lst = torch.tensor(x[\"item_id\"].tolist()).long()\n",
    "is_head_lst[is_head_lst==0].shape, is_head_lst[is_head_lst==1].shape"
   ]
  },
  {
   "cell_type": "code",
   "execution_count": 4,
   "metadata": {},
   "outputs": [
    {
     "data": {
      "text/plain": [
       "(torch.Size([4513]), tensor([0, 0, 0,  ..., 0, 0, 0], device='cuda:0'))"
      ]
     },
     "execution_count": 4,
     "metadata": {},
     "output_type": "execute_result"
    }
   ],
   "source": [
    "head_mapping_lst = torch.empty(num_items+1).long()\n",
    "head_mapping_lst[item_id_lst]=is_head_lst\n",
    "head_mapping_lst = head_mapping_lst.cuda()\n",
    "head_mapping_lst[head_mapping_lst==1].shape, head_mapping_lst"
   ]
  },
  {
   "cell_type": "code",
   "execution_count": 5,
   "metadata": {},
   "outputs": [],
   "source": [
    "from sklearn.model_selection import train_test_split\n",
    "from torch.utils.data import DataLoader, Dataset\n",
    "\n",
    "item_sequences = rating_df['item_id'].tolist()\n",
    "user_ids = rating_df['user_id'].tolist()\n",
    "\n",
    "\n",
    "class SessionDataset(Dataset):\n",
    "    def __init__(self, sequences):\n",
    "        self.sequences = sequences\n",
    "\n",
    "    def __len__(self):\n",
    "        return len(self.sequences)\n",
    "\n",
    "    def __getitem__(self, idx):\n",
    "        sequence = self.sequences[idx]\n",
    "        return torch.tensor(sequence[:-1]), torch.tensor(sequence[-1])\n",
    "    \n",
    "train_data, test_data = train_test_split(item_sequences, test_size=0.2, random_state=42)\n",
    "\n",
    "# Hyperparameters\n",
    "embedding_dim = 128\n",
    "hidden_dim = 128\n",
    "num_epochs = 1000\n",
    "learning_rate = 1e-4\n",
    "batch_size = 512\n",
    "# 512 1e-4 0.4369\n",
    "# 512 53-5 0.4404\n",
    "\n",
    "train_loader = DataLoader(SessionDataset(train_data), batch_size=batch_size, shuffle=True)\n",
    "test_loader = DataLoader(SessionDataset(test_data), batch_size=batch_size, shuffle=False)"
   ]
  },
  {
   "cell_type": "code",
   "execution_count": 6,
   "metadata": {},
   "outputs": [],
   "source": [
    "import torch.optim as optim\n",
    "import sys\n",
    "sys.path.append(\"../\")\n",
    "from model import GRURecommender\n",
    "\n",
    "\n",
    "\n",
    "model = GRURecommender(num_items, embedding_dim, hidden_dim).cuda()\n",
    "\n",
    "criterion = nn.CrossEntropyLoss()\n",
    "optimizer = optim.Adam(model.parameters(), lr=learning_rate)"
   ]
  },
  {
   "cell_type": "code",
   "execution_count": 7,
   "metadata": {},
   "outputs": [
    {
     "data": {
      "text/plain": [
       "(27583, tensor(27580))"
      ]
     },
     "execution_count": 7,
     "metadata": {},
     "output_type": "execute_result"
    }
   ],
   "source": [
    "num_items, item_id_lst.max()"
   ]
  },
  {
   "cell_type": "code",
   "execution_count": 8,
   "metadata": {},
   "outputs": [
    {
     "name": "stderr",
     "output_type": "stream",
     "text": [
      "100%|██████████| 27/27 [00:00<00:00, 52.90it/s]\n",
      "100%|██████████| 7/7 [00:00<00:00, 59.21it/s]\n"
     ]
    },
    {
     "name": "stdout",
     "output_type": "stream",
     "text": [
      "Epoch [1/1000], Loss: 10.2205, Val Loss: 10.2019,  Recall@20: 0.0018 Tail@20: 0.7407\n"
     ]
    },
    {
     "name": "stderr",
     "output_type": "stream",
     "text": [
      "100%|██████████| 27/27 [00:00<00:00, 86.74it/s]\n",
      "100%|██████████| 7/7 [00:00<00:00, 60.93it/s]\n"
     ]
    },
    {
     "name": "stdout",
     "output_type": "stream",
     "text": [
      "Epoch [2/1000], Loss: 10.1655, Val Loss: 10.1648,  Recall@20: 0.0050 Tail@20: 0.5052\n"
     ]
    },
    {
     "name": "stderr",
     "output_type": "stream",
     "text": [
      "100%|██████████| 27/27 [00:00<00:00, 87.76it/s]\n",
      "100%|██████████| 7/7 [00:00<00:00, 61.67it/s]\n"
     ]
    },
    {
     "name": "stdout",
     "output_type": "stream",
     "text": [
      "Epoch [3/1000], Loss: 10.1097, Val Loss: 10.1249,  Recall@20: 0.0095 Tail@20: 0.2431\n"
     ]
    },
    {
     "name": "stderr",
     "output_type": "stream",
     "text": [
      "100%|██████████| 27/27 [00:00<00:00, 86.72it/s]\n",
      "100%|██████████| 7/7 [00:00<00:00, 58.51it/s]\n"
     ]
    },
    {
     "name": "stdout",
     "output_type": "stream",
     "text": [
      "Epoch [4/1000], Loss: 10.0489, Val Loss: 10.0799,  Recall@20: 0.0136 Tail@20: 0.0838\n"
     ]
    },
    {
     "name": "stderr",
     "output_type": "stream",
     "text": [
      "100%|██████████| 27/27 [00:00<00:00, 87.48it/s]\n",
      "100%|██████████| 7/7 [00:00<00:00, 61.91it/s]\n"
     ]
    },
    {
     "name": "stdout",
     "output_type": "stream",
     "text": [
      "Epoch [5/1000], Loss: 9.9795, Val Loss: 10.0272,  Recall@20: 0.0178 Tail@20: 0.0273\n"
     ]
    },
    {
     "name": "stderr",
     "output_type": "stream",
     "text": [
      "100%|██████████| 27/27 [00:00<00:00, 85.38it/s]\n",
      "100%|██████████| 7/7 [00:00<00:00, 61.97it/s]\n"
     ]
    },
    {
     "name": "stdout",
     "output_type": "stream",
     "text": [
      "Epoch [6/1000], Loss: 9.8970, Val Loss: 9.9624,  Recall@20: 0.0201 Tail@20: 0.0096\n"
     ]
    },
    {
     "name": "stderr",
     "output_type": "stream",
     "text": [
      "100%|██████████| 27/27 [00:00<00:00, 70.29it/s]\n",
      "100%|██████████| 7/7 [00:00<00:00, 60.12it/s]\n"
     ]
    },
    {
     "name": "stdout",
     "output_type": "stream",
     "text": [
      "Epoch [7/1000], Loss: 9.7930, Val Loss: 9.8754,  Recall@20: 0.0260 Tail@20: 0.0034\n"
     ]
    },
    {
     "name": "stderr",
     "output_type": "stream",
     "text": [
      "100%|██████████| 27/27 [00:00<00:00, 85.99it/s]\n",
      "100%|██████████| 7/7 [00:00<00:00, 60.34it/s]\n"
     ]
    },
    {
     "name": "stdout",
     "output_type": "stream",
     "text": [
      "Epoch [8/1000], Loss: 9.6462, Val Loss: 9.7387,  Recall@20: 0.0296 Tail@20: 0.0009\n"
     ]
    },
    {
     "name": "stderr",
     "output_type": "stream",
     "text": [
      "100%|██████████| 27/27 [00:00<00:00, 86.04it/s]\n",
      "100%|██████████| 7/7 [00:00<00:00, 61.04it/s]\n"
     ]
    },
    {
     "name": "stdout",
     "output_type": "stream",
     "text": [
      "Epoch [9/1000], Loss: 9.3924, Val Loss: 9.4596,  Recall@20: 0.0346 Tail@20: 0.0000\n"
     ]
    },
    {
     "name": "stderr",
     "output_type": "stream",
     "text": [
      "100%|██████████| 27/27 [00:00<00:00, 68.12it/s]\n",
      "100%|██████████| 7/7 [00:00<00:00, 62.12it/s]\n"
     ]
    },
    {
     "name": "stdout",
     "output_type": "stream",
     "text": [
      "Epoch [10/1000], Loss: 8.8536, Val Loss: 8.8851,  Recall@20: 0.0444 Tail@20: 0.0000\n"
     ]
    },
    {
     "name": "stderr",
     "output_type": "stream",
     "text": [
      "100%|██████████| 27/27 [00:00<00:00, 87.26it/s]\n",
      "100%|██████████| 7/7 [00:00<00:00, 62.20it/s]\n"
     ]
    },
    {
     "name": "stdout",
     "output_type": "stream",
     "text": [
      "Epoch [11/1000], Loss: 8.1834, Val Loss: 8.5906,  Recall@20: 0.0462 Tail@20: 0.0000\n"
     ]
    },
    {
     "name": "stderr",
     "output_type": "stream",
     "text": [
      "100%|██████████| 27/27 [00:00<00:00, 81.33it/s]\n",
      "100%|██████████| 7/7 [00:00<00:00, 60.53it/s]\n"
     ]
    },
    {
     "name": "stdout",
     "output_type": "stream",
     "text": [
      "Epoch [12/1000], Loss: 7.9453, Val Loss: 8.5621,  Recall@20: 0.0562 Tail@20: 0.0000\n"
     ]
    },
    {
     "name": "stderr",
     "output_type": "stream",
     "text": [
      "100%|██████████| 27/27 [00:00<00:00, 70.38it/s]\n",
      "100%|██████████| 7/7 [00:00<00:00, 52.27it/s]\n"
     ]
    },
    {
     "name": "stdout",
     "output_type": "stream",
     "text": [
      "Epoch [13/1000], Loss: 7.8717, Val Loss: 8.5510,  Recall@20: 0.0630 Tail@20: 0.0000\n"
     ]
    },
    {
     "name": "stderr",
     "output_type": "stream",
     "text": [
      "100%|██████████| 27/27 [00:00<00:00, 87.72it/s]\n",
      "100%|██████████| 7/7 [00:00<00:00, 61.47it/s]\n"
     ]
    },
    {
     "name": "stdout",
     "output_type": "stream",
     "text": [
      "Epoch [14/1000], Loss: 7.8213, Val Loss: 8.5429,  Recall@20: 0.0610 Tail@20: 0.0000\n"
     ]
    },
    {
     "name": "stderr",
     "output_type": "stream",
     "text": [
      "100%|██████████| 27/27 [00:00<00:00, 78.00it/s]\n",
      "100%|██████████| 7/7 [00:00<00:00, 61.37it/s]\n"
     ]
    },
    {
     "name": "stdout",
     "output_type": "stream",
     "text": [
      "Epoch [15/1000], Loss: 7.7913, Val Loss: 8.5410,  Recall@20: 0.0636 Tail@20: 0.0000\n"
     ]
    },
    {
     "name": "stderr",
     "output_type": "stream",
     "text": [
      "100%|██████████| 27/27 [00:00<00:00, 86.62it/s]\n",
      "100%|██████████| 7/7 [00:00<00:00, 61.03it/s]\n"
     ]
    },
    {
     "name": "stdout",
     "output_type": "stream",
     "text": [
      "Epoch [16/1000], Loss: 7.7607, Val Loss: 8.5390,  Recall@20: 0.0672 Tail@20: 0.0000\n"
     ]
    },
    {
     "name": "stderr",
     "output_type": "stream",
     "text": [
      "100%|██████████| 27/27 [00:00<00:00, 87.12it/s]\n",
      "100%|██████████| 7/7 [00:00<00:00, 60.96it/s]\n"
     ]
    },
    {
     "name": "stdout",
     "output_type": "stream",
     "text": [
      "Epoch [17/1000], Loss: 7.7336, Val Loss: 8.5377,  Recall@20: 0.0660 Tail@20: 0.0000\n"
     ]
    },
    {
     "name": "stderr",
     "output_type": "stream",
     "text": [
      "100%|██████████| 27/27 [00:00<00:00, 79.06it/s]\n",
      "100%|██████████| 7/7 [00:00<00:00, 57.79it/s]\n"
     ]
    },
    {
     "name": "stdout",
     "output_type": "stream",
     "text": [
      "Epoch [18/1000], Loss: 7.7115, Val Loss: 8.5375,  Recall@20: 0.0645 Tail@20: 0.0000\n"
     ]
    },
    {
     "name": "stderr",
     "output_type": "stream",
     "text": [
      "100%|██████████| 27/27 [00:00<00:00, 87.65it/s]\n",
      "100%|██████████| 7/7 [00:00<00:00, 61.67it/s]\n"
     ]
    },
    {
     "name": "stdout",
     "output_type": "stream",
     "text": [
      "Epoch [19/1000], Loss: 7.6909, Val Loss: 8.5368,  Recall@20: 0.0639 Tail@20: 0.0000\n"
     ]
    },
    {
     "name": "stderr",
     "output_type": "stream",
     "text": [
      "100%|██████████| 27/27 [00:00<00:00, 81.82it/s]\n",
      "100%|██████████| 7/7 [00:00<00:00, 45.66it/s]\n"
     ]
    },
    {
     "name": "stdout",
     "output_type": "stream",
     "text": [
      "Epoch [20/1000], Loss: 7.6672, Val Loss: 8.5366,  Recall@20: 0.0663 Tail@20: 0.0000\n"
     ]
    },
    {
     "name": "stderr",
     "output_type": "stream",
     "text": [
      "100%|██████████| 27/27 [00:00<00:00, 66.02it/s]\n",
      "100%|██████████| 7/7 [00:00<00:00, 62.13it/s]\n"
     ]
    },
    {
     "name": "stdout",
     "output_type": "stream",
     "text": [
      "Epoch [21/1000], Loss: 7.6466, Val Loss: 8.5357,  Recall@20: 0.0663 Tail@20: 0.0000\n",
      "Early stopping triggered\n"
     ]
    }
   ],
   "source": [
    "from sklearn.metrics import recall_score\n",
    "from tqdm import tqdm\n",
    "from copy import deepcopy\n",
    "import warnings\n",
    "warnings.filterwarnings('always')\n",
    "\n",
    "model_parameters = deepcopy(model.state_dict())\n",
    "K=20\n",
    "\n",
    "recall_records, tail_records = [], []\n",
    "\n",
    "def train_and_evaluate(model, train_loader, val_loader, criterion, optimizer, num_epochs, early_stopping_patience=5):\n",
    "    global model_parameters\n",
    "    best_val_recall = -float('inf')\n",
    "    patience_counter = 0\n",
    "    \n",
    "    for epoch in range(num_epochs):\n",
    "        model.train()\n",
    "        total_loss = 0\n",
    "        for inputs, target in tqdm(train_loader):\n",
    "            optimizer.zero_grad()\n",
    "            outputs = model(inputs.cuda())\n",
    "            loss = criterion(outputs, target.cuda())\n",
    "\n",
    "            loss.backward()\n",
    "            optimizer.step()\n",
    "            total_loss += loss.detach().cpu().item()\n",
    "\n",
    "        val_loss, val_recall, val_tail = evaluate(model, val_loader, criterion)\n",
    "        recall_records.append(val_recall)\n",
    "        tail_records.append(val_tail)\n",
    "        \n",
    "        print(f'Epoch [{epoch+1}/{num_epochs}], Loss: {total_loss/len(train_loader):.4f}, '\n",
    "              f'Val Loss: {val_loss:.4f},  Recall@20: {val_recall:.4f} Tail@20: {val_tail:.4f}')\n",
    "        \n",
    "        if val_recall > best_val_recall:\n",
    "            best_val_recall = val_recall\n",
    "            patience_counter = 0\n",
    "            model_parameters = deepcopy(model.state_dict())\n",
    "        else:\n",
    "            patience_counter += 1\n",
    "            if patience_counter >= early_stopping_patience:\n",
    "                print(\"Early stopping triggered\")\n",
    "                break\n",
    "\n",
    "def evaluate(model, data_loader, criterion):\n",
    "    model.eval()\n",
    "    total_loss = 0\n",
    "\n",
    "    pred_lst, target_lst = [], []\n",
    "    tail_lst = []\n",
    "    \n",
    "    with torch.no_grad():\n",
    "        for idx, (inputs, target) in enumerate(tqdm(data_loader)):\n",
    "            outputs = model(inputs.cuda())\n",
    "            loss = criterion(outputs, target.cuda())\n",
    "            total_loss += loss.detach().cpu().item()\n",
    "\n",
    "            top_pred_idx = torch.argsort(outputs, dim=1, descending=True)[:, :K]\n",
    "            tail_lst.append(head_mapping_lst[top_pred_idx])\n",
    "\n",
    "            pred_lst.append(top_pred_idx.detach().cpu())\n",
    "            target_lst.append(target.unsqueeze(dim=1).detach().cpu())\n",
    "    \n",
    "    pred_lst = torch.cat(pred_lst, dim=0)\n",
    "    target_lst = torch.cat(target_lst, dim=0)\n",
    "    tail_lst = torch.cat(tail_lst, dim=0)\n",
    "\n",
    "    recall, tail = [], []\n",
    "    for pred_idx, target_idx, is_tail in zip(pred_lst, target_lst, tail_lst):\n",
    "        num_hit = target_idx[torch.isin(target_idx, pred_idx)].shape[0]\n",
    "        recall.append(num_hit/target_idx.shape[0])\n",
    "        # print(is_tail, is_tail.shape, is_tail[is_tail==0].shape[0], is_tail[is_tail==0].shape[0]/K)\n",
    "        tail.append(is_tail[is_tail==0].shape[0]/K)\n",
    "\n",
    "    avg_loss = total_loss / len(data_loader)\n",
    "    avg_recall = np.mean(recall)    \n",
    "    avg_tail = np.mean(tail)\n",
    "    return avg_loss, avg_recall, avg_tail\n",
    "\n",
    "train_and_evaluate(model, train_loader, test_loader, criterion, optimizer, num_epochs)\n"
   ]
  },
  {
   "cell_type": "code",
   "execution_count": 9,
   "metadata": {},
   "outputs": [
    {
     "name": "stderr",
     "output_type": "stream",
     "text": [
      "100%|██████████| 7/7 [00:00<00:00, 58.96it/s]\n"
     ]
    },
    {
     "name": "stdout",
     "output_type": "stream",
     "text": [
      "8.53898252759661 0.06717963894643386 0.0\n"
     ]
    }
   ],
   "source": [
    "model.load_state_dict(model_parameters)\n",
    "\n",
    "avg_loss, avg_recall, avg_tail = evaluate(model, test_loader, criterion)\n",
    "print(avg_loss, avg_recall, avg_tail)\n",
    "\n",
    "# 12.022144079208374 0.3539857738533235"
   ]
  },
  {
   "cell_type": "code",
   "execution_count": 17,
   "metadata": {},
   "outputs": [
    {
     "data": {
      "image/png": "[encoded data removed]",
      "text/plain": [
       "<Figure size 640x480 with 2 Axes>"
      ]
     },
     "metadata": {},
     "output_type": "display_data"
    }
   ],
   "source": [
    "import matplotlib.pyplot as plt\n",
    "import numpy as np\n",
    "\n",
    "x = np.arange(0, len(recall_records))\n",
    "\n",
    "fig, ax1 = plt.subplots()\n",
    "\n",
    "ax1.plot(x, recall_records, 'b', label=f'recall@{K}')\n",
    "ax1.set_xlabel('epochs')\n",
    "ax1.tick_params(axis='y', labelcolor='b')\n",
    "\n",
    "ax2 = ax1.twinx()\n",
    "ax2.plot(x, tail_records, 'r-', label=f'tail@{K}')\n",
    "ax2.tick_params(axis='y', labelcolor='r')\n",
    "\n",
    "fig.legend()\n",
    "\n",
    "plt.show()\n"
   ]
  },
  {
   "cell_type": "code",
   "execution_count": 11,
   "metadata": {},
   "outputs": [],
   "source": [
    "torch.save({\n",
    "    \"state_dict\": model.cpu().state_dict(),\n",
    "    \"num_items\": num_items,\n",
    "    \"embedding_dim\":embedding_dim,\n",
    "    \"hidden_dim\": hidden_dim\n",
    "}, \"../parameters/session.pth\")"
   ]
  }
 ],
 "metadata": {
  "kernelspec": {
   "display_name": "fyi_39",
   "language": "python",
   "name": "python3"
  },
  "language_info": {
   "codemirror_mode": {
    "name": "ipython",
    "version": 3
   },
   "file_extension": ".py",
   "mimetype": "text/x-python",
   "name": "python",
   "nbconvert_exporter": "python",
   "pygments_lexer": "ipython3",
   "version": "3.9.18"
  }
 },
 "nbformat": 4,
 "nbformat_minor": 2
}
