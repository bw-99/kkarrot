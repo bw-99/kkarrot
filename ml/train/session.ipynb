{
 "cells": [
  {
   "cell_type": "code",
   "execution_count": 1,
   "metadata": {},
   "outputs": [
    {
     "data": {
      "text/html": [
       "<div>\n",
       "<style scoped>\n",
       "    .dataframe tbody tr th:only-of-type {\n",
       "        vertical-align: middle;\n",
       "    }\n",
       "\n",
       "    .dataframe tbody tr th {\n",
       "        vertical-align: top;\n",
       "    }\n",
       "\n",
       "    .dataframe thead th {\n",
       "        text-align: right;\n",
       "    }\n",
       "</style>\n",
       "<table border=\"1\" class=\"dataframe\">\n",
       "  <thead>\n",
       "    <tr style=\"text-align: right;\">\n",
       "      <th></th>\n",
       "      <th>user_id</th>\n",
       "      <th>date</th>\n",
       "      <th>item_id</th>\n",
       "      <th>rating</th>\n",
       "    </tr>\n",
       "  </thead>\n",
       "  <tbody>\n",
       "    <tr>\n",
       "      <th>0</th>\n",
       "      <td>0</td>\n",
       "      <td>2022-07-22</td>\n",
       "      <td>[71482, 53839, 32319, 64573]</td>\n",
       "      <td>[5.0, 5.0, 1.0, 5.0]</td>\n",
       "    </tr>\n",
       "    <tr>\n",
       "      <th>1</th>\n",
       "      <td>0</td>\n",
       "      <td>2022-07-22</td>\n",
       "      <td>[53839, 32319, 64573, 44799]</td>\n",
       "      <td>[5.0, 1.0, 5.0, 5.0]</td>\n",
       "    </tr>\n",
       "    <tr>\n",
       "      <th>2</th>\n",
       "      <td>0</td>\n",
       "      <td>2022-07-22</td>\n",
       "      <td>[32319, 64573, 44799, 56313]</td>\n",
       "      <td>[1.0, 5.0, 5.0, 5.0]</td>\n",
       "    </tr>\n",
       "    <tr>\n",
       "      <th>3</th>\n",
       "      <td>0</td>\n",
       "      <td>2022-07-22</td>\n",
       "      <td>[64573, 44799, 56313, 40697]</td>\n",
       "      <td>[5.0, 5.0, 5.0, 1.0]</td>\n",
       "    </tr>\n",
       "    <tr>\n",
       "      <th>4</th>\n",
       "      <td>0</td>\n",
       "      <td>2022-07-22</td>\n",
       "      <td>[44799, 56313, 40697, 41653]</td>\n",
       "      <td>[5.0, 5.0, 1.0, 1.0]</td>\n",
       "    </tr>\n",
       "    <tr>\n",
       "      <th>...</th>\n",
       "      <td>...</td>\n",
       "      <td>...</td>\n",
       "      <td>...</td>\n",
       "      <td>...</td>\n",
       "    </tr>\n",
       "    <tr>\n",
       "      <th>21798</th>\n",
       "      <td>997</td>\n",
       "      <td>2023-03-20</td>\n",
       "      <td>[68239, 68144, 67857, 62937]</td>\n",
       "      <td>[5.0, 5.0, 5.0, 5.0]</td>\n",
       "    </tr>\n",
       "    <tr>\n",
       "      <th>21799</th>\n",
       "      <td>999</td>\n",
       "      <td>2014-12-03</td>\n",
       "      <td>[16923, 19623, 19207, 3573]</td>\n",
       "      <td>[5.0, 4.0, 5.0, 5.0]</td>\n",
       "    </tr>\n",
       "    <tr>\n",
       "      <th>21800</th>\n",
       "      <td>999</td>\n",
       "      <td>2018-12-26</td>\n",
       "      <td>[40583, 38774, 38410, 61047]</td>\n",
       "      <td>[5.0, 5.0, 5.0, 5.0]</td>\n",
       "    </tr>\n",
       "    <tr>\n",
       "      <th>21801</th>\n",
       "      <td>999</td>\n",
       "      <td>2019-02-10</td>\n",
       "      <td>[40158, 39077, 38698, 42245]</td>\n",
       "      <td>[4.0, 5.0, 3.0, 5.0]</td>\n",
       "    </tr>\n",
       "    <tr>\n",
       "      <th>21802</th>\n",
       "      <td>999</td>\n",
       "      <td>2019-02-10</td>\n",
       "      <td>[39077, 38698, 42245, 39165]</td>\n",
       "      <td>[5.0, 3.0, 5.0, 4.0]</td>\n",
       "    </tr>\n",
       "  </tbody>\n",
       "</table>\n",
       "<p>21803 rows × 4 columns</p>\n",
       "</div>"
      ],
      "text/plain": [
       "       user_id        date                       item_id                rating\n",
       "0            0  2022-07-22  [71482, 53839, 32319, 64573]  [5.0, 5.0, 1.0, 5.0]\n",
       "1            0  2022-07-22  [53839, 32319, 64573, 44799]  [5.0, 1.0, 5.0, 5.0]\n",
       "2            0  2022-07-22  [32319, 64573, 44799, 56313]  [1.0, 5.0, 5.0, 5.0]\n",
       "3            0  2022-07-22  [64573, 44799, 56313, 40697]  [5.0, 5.0, 5.0, 1.0]\n",
       "4            0  2022-07-22  [44799, 56313, 40697, 41653]  [5.0, 5.0, 1.0, 1.0]\n",
       "...        ...         ...                           ...                   ...\n",
       "21798      997  2023-03-20  [68239, 68144, 67857, 62937]  [5.0, 5.0, 5.0, 5.0]\n",
       "21799      999  2014-12-03   [16923, 19623, 19207, 3573]  [5.0, 4.0, 5.0, 5.0]\n",
       "21800      999  2018-12-26  [40583, 38774, 38410, 61047]  [5.0, 5.0, 5.0, 5.0]\n",
       "21801      999  2019-02-10  [40158, 39077, 38698, 42245]  [4.0, 5.0, 3.0, 5.0]\n",
       "21802      999  2019-02-10  [39077, 38698, 42245, 39165]  [5.0, 3.0, 5.0, 4.0]\n",
       "\n",
       "[21803 rows x 4 columns]"
      ]
     },
     "execution_count": 1,
     "metadata": {},
     "output_type": "execute_result"
    }
   ],
   "source": [
    "import pandas as pd\n",
    "import numpy as np\n",
    "import torch\n",
    "import torch.nn as nn\n",
    "import torch.nn.functional as F\n",
    "\n",
    "total_df = pd.read_pickle(\"../../data/processed/rating_engage.pkl\")\n",
    "rating_df = pd.read_pickle(\"../../data/processed/rating_session.pkl\")\n",
    "rating_df"
   ]
  },
  {
   "cell_type": "code",
   "execution_count": 2,
   "metadata": {},
   "outputs": [
    {
     "data": {
      "text/html": [
       "<div>\n",
       "<style scoped>\n",
       "    .dataframe tbody tr th:only-of-type {\n",
       "        vertical-align: middle;\n",
       "    }\n",
       "\n",
       "    .dataframe tbody tr th {\n",
       "        vertical-align: top;\n",
       "    }\n",
       "\n",
       "    .dataframe thead th {\n",
       "        text-align: right;\n",
       "    }\n",
       "</style>\n",
       "<table border=\"1\" class=\"dataframe\">\n",
       "  <thead>\n",
       "    <tr style=\"text-align: right;\">\n",
       "      <th></th>\n",
       "      <th>user_id</th>\n",
       "      <th>item_id</th>\n",
       "      <th>rating</th>\n",
       "      <th>item_len</th>\n",
       "    </tr>\n",
       "  </thead>\n",
       "  <tbody>\n",
       "    <tr>\n",
       "      <th>0</th>\n",
       "      <td>0</td>\n",
       "      <td>28833</td>\n",
       "      <td>1.0</td>\n",
       "      <td>123</td>\n",
       "    </tr>\n",
       "    <tr>\n",
       "      <th>0</th>\n",
       "      <td>0</td>\n",
       "      <td>29361</td>\n",
       "      <td>5.0</td>\n",
       "      <td>123</td>\n",
       "    </tr>\n",
       "    <tr>\n",
       "      <th>0</th>\n",
       "      <td>0</td>\n",
       "      <td>32319</td>\n",
       "      <td>1.0</td>\n",
       "      <td>123</td>\n",
       "    </tr>\n",
       "    <tr>\n",
       "      <th>0</th>\n",
       "      <td>0</td>\n",
       "      <td>37990</td>\n",
       "      <td>5.0</td>\n",
       "      <td>123</td>\n",
       "    </tr>\n",
       "    <tr>\n",
       "      <th>0</th>\n",
       "      <td>0</td>\n",
       "      <td>40014</td>\n",
       "      <td>5.0</td>\n",
       "      <td>123</td>\n",
       "    </tr>\n",
       "    <tr>\n",
       "      <th>...</th>\n",
       "      <td>...</td>\n",
       "      <td>...</td>\n",
       "      <td>...</td>\n",
       "      <td>...</td>\n",
       "    </tr>\n",
       "    <tr>\n",
       "      <th>999</th>\n",
       "      <td>999</td>\n",
       "      <td>44930</td>\n",
       "      <td>0</td>\n",
       "      <td>193</td>\n",
       "    </tr>\n",
       "    <tr>\n",
       "      <th>999</th>\n",
       "      <td>999</td>\n",
       "      <td>14950</td>\n",
       "      <td>0</td>\n",
       "      <td>193</td>\n",
       "    </tr>\n",
       "    <tr>\n",
       "      <th>999</th>\n",
       "      <td>999</td>\n",
       "      <td>50080</td>\n",
       "      <td>0</td>\n",
       "      <td>193</td>\n",
       "    </tr>\n",
       "    <tr>\n",
       "      <th>999</th>\n",
       "      <td>999</td>\n",
       "      <td>22395</td>\n",
       "      <td>0</td>\n",
       "      <td>193</td>\n",
       "    </tr>\n",
       "    <tr>\n",
       "      <th>999</th>\n",
       "      <td>999</td>\n",
       "      <td>65599</td>\n",
       "      <td>0</td>\n",
       "      <td>193</td>\n",
       "    </tr>\n",
       "  </tbody>\n",
       "</table>\n",
       "<p>328728 rows × 4 columns</p>\n",
       "</div>"
      ],
      "text/plain": [
       "     user_id item_id rating  item_len\n",
       "0          0   28833    1.0       123\n",
       "0          0   29361    5.0       123\n",
       "0          0   32319    1.0       123\n",
       "0          0   37990    5.0       123\n",
       "0          0   40014    5.0       123\n",
       "..       ...     ...    ...       ...\n",
       "999      999   44930      0       193\n",
       "999      999   14950      0       193\n",
       "999      999   50080      0       193\n",
       "999      999   22395      0       193\n",
       "999      999   65599      0       193\n",
       "\n",
       "[328728 rows x 4 columns]"
      ]
     },
     "execution_count": 2,
     "metadata": {},
     "output_type": "execute_result"
    }
   ],
   "source": [
    "total_df"
   ]
  },
  {
   "cell_type": "code",
   "execution_count": 3,
   "metadata": {},
   "outputs": [
    {
     "data": {
      "text/plain": [
       "(72319, 72318)"
      ]
     },
     "execution_count": 3,
     "metadata": {},
     "output_type": "execute_result"
    }
   ],
   "source": [
    "len(total_df[\"item_id\"].unique()), total_df[\"item_id\"].max()"
   ]
  },
  {
   "cell_type": "code",
   "execution_count": 4,
   "metadata": {},
   "outputs": [],
   "source": [
    "from sklearn.model_selection import train_test_split\n",
    "from torch.utils.data import DataLoader, Dataset\n",
    "\n",
    "item_sequences = rating_df['item_id'].tolist()  # item_id를 리스트로 변환\n",
    "user_ids = rating_df['user_id'].tolist()\n",
    "\n",
    "\n",
    "class SessionDataset(Dataset):\n",
    "    def __init__(self, sequences):\n",
    "        self.sequences = sequences\n",
    "\n",
    "    def __len__(self):\n",
    "        return len(self.sequences)\n",
    "\n",
    "    def __getitem__(self, idx):\n",
    "        sequence = self.sequences[idx]\n",
    "        return torch.tensor(sequence[:-1]), torch.tensor(sequence[-1])\n",
    "    \n",
    "train_data, test_data = train_test_split(item_sequences, test_size=0.2, random_state=42)\n",
    "\n",
    "# Hyperparameters\n",
    "embedding_dim = 128\n",
    "hidden_dim = 128\n",
    "num_epochs = 1000\n",
    "learning_rate = 5e-5\n",
    "batch_size = 512\n",
    "# 512 1e-4 0.4369\n",
    "# 512 53-5 0.4404\n",
    "\n",
    "train_loader = DataLoader(SessionDataset(train_data), batch_size=batch_size, shuffle=True)\n",
    "test_loader = DataLoader(SessionDataset(test_data), batch_size=batch_size, shuffle=False)"
   ]
  },
  {
   "cell_type": "code",
   "execution_count": 5,
   "metadata": {},
   "outputs": [],
   "source": [
    "import torch.optim as optim\n",
    "import sys\n",
    "sys.path.append(\"../\")\n",
    "from model import GRURecommender\n",
    "\n",
    "num_items = 368228\n",
    "\n",
    "model = GRURecommender(num_items, embedding_dim, hidden_dim).cuda()\n",
    "\n",
    "criterion = nn.CrossEntropyLoss()\n",
    "optimizer = optim.Adam(model.parameters(), lr=learning_rate)"
   ]
  },
  {
   "cell_type": "code",
   "execution_count": 6,
   "metadata": {},
   "outputs": [
    {
     "name": "stderr",
     "output_type": "stream",
     "text": [
      "100%|██████████| 35/35 [00:02<00:00, 14.86it/s]\n",
      "100%|██████████| 9/9 [00:06<00:00,  1.49it/s]\n"
     ]
    },
    {
     "name": "stdout",
     "output_type": "stream",
     "text": [
      "Epoch [1/1000], Loss: 12.8215, Val Loss: 12.8184, Precision@20: 0.0012\n"
     ]
    },
    {
     "name": "stderr",
     "output_type": "stream",
     "text": [
      "100%|██████████| 35/35 [00:02<00:00, 15.89it/s]\n",
      "100%|██████████| 9/9 [00:05<00:00,  1.51it/s]\n"
     ]
    },
    {
     "name": "stdout",
     "output_type": "stream",
     "text": [
      "Epoch [2/1000], Loss: 12.7888, Val Loss: 12.8110, Precision@20: 0.0021\n"
     ]
    },
    {
     "name": "stderr",
     "output_type": "stream",
     "text": [
      "100%|██████████| 35/35 [00:02<00:00, 15.71it/s]\n",
      "100%|██████████| 9/9 [00:05<00:00,  1.54it/s]\n"
     ]
    },
    {
     "name": "stdout",
     "output_type": "stream",
     "text": [
      "Epoch [3/1000], Loss: 12.7563, Val Loss: 12.8035, Precision@20: 0.0042\n"
     ]
    },
    {
     "name": "stderr",
     "output_type": "stream",
     "text": [
      "100%|██████████| 35/35 [00:02<00:00, 15.72it/s]\n",
      "100%|██████████| 9/9 [00:05<00:00,  1.53it/s]\n"
     ]
    },
    {
     "name": "stdout",
     "output_type": "stream",
     "text": [
      "Epoch [4/1000], Loss: 12.7217, Val Loss: 12.7957, Precision@20: 0.0081\n"
     ]
    },
    {
     "name": "stderr",
     "output_type": "stream",
     "text": [
      "100%|██████████| 35/35 [00:02<00:00, 15.72it/s]\n",
      "100%|██████████| 9/9 [00:05<00:00,  1.53it/s]\n"
     ]
    },
    {
     "name": "stdout",
     "output_type": "stream",
     "text": [
      "Epoch [5/1000], Loss: 12.6858, Val Loss: 12.7876, Precision@20: 0.0143\n"
     ]
    },
    {
     "name": "stderr",
     "output_type": "stream",
     "text": [
      "100%|██████████| 35/35 [00:02<00:00, 15.80it/s]\n",
      "100%|██████████| 9/9 [00:05<00:00,  1.53it/s]\n"
     ]
    },
    {
     "name": "stdout",
     "output_type": "stream",
     "text": [
      "Epoch [6/1000], Loss: 12.6499, Val Loss: 12.7789, Precision@20: 0.0231\n"
     ]
    },
    {
     "name": "stderr",
     "output_type": "stream",
     "text": [
      "100%|██████████| 35/35 [00:02<00:00, 15.12it/s]\n",
      "100%|██████████| 9/9 [00:05<00:00,  1.51it/s]\n"
     ]
    },
    {
     "name": "stdout",
     "output_type": "stream",
     "text": [
      "Epoch [7/1000], Loss: 12.6093, Val Loss: 12.7696, Precision@20: 0.0333\n"
     ]
    },
    {
     "name": "stderr",
     "output_type": "stream",
     "text": [
      "100%|██████████| 35/35 [00:02<00:00, 15.66it/s]\n",
      "100%|██████████| 9/9 [00:05<00:00,  1.51it/s]\n"
     ]
    },
    {
     "name": "stdout",
     "output_type": "stream",
     "text": [
      "Epoch [8/1000], Loss: 12.5674, Val Loss: 12.7596, Precision@20: 0.0434\n"
     ]
    },
    {
     "name": "stderr",
     "output_type": "stream",
     "text": [
      "100%|██████████| 35/35 [00:02<00:00, 15.73it/s]\n",
      "100%|██████████| 9/9 [00:05<00:00,  1.50it/s]\n"
     ]
    },
    {
     "name": "stdout",
     "output_type": "stream",
     "text": [
      "Epoch [9/1000], Loss: 12.5197, Val Loss: 12.7487, Precision@20: 0.0526\n"
     ]
    },
    {
     "name": "stderr",
     "output_type": "stream",
     "text": [
      "100%|██████████| 35/35 [00:02<00:00, 15.67it/s]\n",
      "100%|██████████| 9/9 [00:05<00:00,  1.52it/s]\n"
     ]
    },
    {
     "name": "stdout",
     "output_type": "stream",
     "text": [
      "Epoch [10/1000], Loss: 12.4684, Val Loss: 12.7367, Precision@20: 0.0614\n"
     ]
    },
    {
     "name": "stderr",
     "output_type": "stream",
     "text": [
      "100%|██████████| 35/35 [00:02<00:00, 15.87it/s]\n",
      "100%|██████████| 9/9 [00:05<00:00,  1.54it/s]\n"
     ]
    },
    {
     "name": "stdout",
     "output_type": "stream",
     "text": [
      "Epoch [11/1000], Loss: 12.4126, Val Loss: 12.7233, Precision@20: 0.0706\n"
     ]
    },
    {
     "name": "stderr",
     "output_type": "stream",
     "text": [
      "100%|██████████| 35/35 [00:02<00:00, 15.77it/s]\n",
      "100%|██████████| 9/9 [00:05<00:00,  1.52it/s]\n"
     ]
    },
    {
     "name": "stdout",
     "output_type": "stream",
     "text": [
      "Epoch [12/1000], Loss: 12.3493, Val Loss: 12.7081, Precision@20: 0.0794\n"
     ]
    },
    {
     "name": "stderr",
     "output_type": "stream",
     "text": [
      "100%|██████████| 35/35 [00:02<00:00, 15.74it/s]\n",
      "100%|██████████| 9/9 [00:05<00:00,  1.51it/s]\n"
     ]
    },
    {
     "name": "stdout",
     "output_type": "stream",
     "text": [
      "Epoch [13/1000], Loss: 12.2778, Val Loss: 12.6906, Precision@20: 0.0883\n"
     ]
    },
    {
     "name": "stderr",
     "output_type": "stream",
     "text": [
      "100%|██████████| 35/35 [00:02<00:00, 15.81it/s]\n",
      "100%|██████████| 9/9 [00:05<00:00,  1.51it/s]\n"
     ]
    },
    {
     "name": "stdout",
     "output_type": "stream",
     "text": [
      "Epoch [14/1000], Loss: 12.1956, Val Loss: 12.6700, Precision@20: 0.0974\n"
     ]
    },
    {
     "name": "stderr",
     "output_type": "stream",
     "text": [
      "100%|██████████| 35/35 [00:02<00:00, 15.71it/s]\n",
      "100%|██████████| 9/9 [00:05<00:00,  1.52it/s]\n"
     ]
    },
    {
     "name": "stdout",
     "output_type": "stream",
     "text": [
      "Epoch [15/1000], Loss: 12.0986, Val Loss: 12.6451, Precision@20: 0.1072\n"
     ]
    },
    {
     "name": "stderr",
     "output_type": "stream",
     "text": [
      "100%|██████████| 35/35 [00:02<00:00, 15.11it/s]\n",
      "100%|██████████| 9/9 [00:05<00:00,  1.52it/s]\n"
     ]
    },
    {
     "name": "stdout",
     "output_type": "stream",
     "text": [
      "Epoch [16/1000], Loss: 11.9845, Val Loss: 12.6141, Precision@20: 0.1167\n"
     ]
    },
    {
     "name": "stderr",
     "output_type": "stream",
     "text": [
      "100%|██████████| 35/35 [00:02<00:00, 15.73it/s]\n",
      "100%|██████████| 9/9 [00:05<00:00,  1.52it/s]\n"
     ]
    },
    {
     "name": "stdout",
     "output_type": "stream",
     "text": [
      "Epoch [17/1000], Loss: 11.8404, Val Loss: 12.5745, Precision@20: 0.1270\n"
     ]
    },
    {
     "name": "stderr",
     "output_type": "stream",
     "text": [
      "100%|██████████| 35/35 [00:02<00:00, 15.77it/s]\n",
      "100%|██████████| 9/9 [00:05<00:00,  1.51it/s]\n"
     ]
    },
    {
     "name": "stdout",
     "output_type": "stream",
     "text": [
      "Epoch [18/1000], Loss: 11.6575, Val Loss: 12.5222, Precision@20: 0.1376\n"
     ]
    },
    {
     "name": "stderr",
     "output_type": "stream",
     "text": [
      "100%|██████████| 35/35 [00:02<00:00, 15.68it/s]\n",
      "100%|██████████| 9/9 [00:05<00:00,  1.51it/s]\n"
     ]
    },
    {
     "name": "stdout",
     "output_type": "stream",
     "text": [
      "Epoch [19/1000], Loss: 11.4189, Val Loss: 12.4525, Precision@20: 0.1490\n"
     ]
    },
    {
     "name": "stderr",
     "output_type": "stream",
     "text": [
      "100%|██████████| 35/35 [00:02<00:00, 15.78it/s]\n",
      "100%|██████████| 9/9 [00:05<00:00,  1.53it/s]\n"
     ]
    },
    {
     "name": "stdout",
     "output_type": "stream",
     "text": [
      "Epoch [20/1000], Loss: 11.1027, Val Loss: 12.3661, Precision@20: 0.1623\n"
     ]
    },
    {
     "name": "stderr",
     "output_type": "stream",
     "text": [
      "100%|██████████| 35/35 [00:02<00:00, 15.52it/s]\n",
      "100%|██████████| 9/9 [00:06<00:00,  1.48it/s]\n"
     ]
    },
    {
     "name": "stdout",
     "output_type": "stream",
     "text": [
      "Epoch [21/1000], Loss: 10.7239, Val Loss: 12.2789, Precision@20: 0.1756\n"
     ]
    },
    {
     "name": "stderr",
     "output_type": "stream",
     "text": [
      "100%|██████████| 35/35 [00:02<00:00, 15.73it/s]\n",
      "100%|██████████| 9/9 [00:05<00:00,  1.53it/s]\n"
     ]
    },
    {
     "name": "stdout",
     "output_type": "stream",
     "text": [
      "Epoch [22/1000], Loss: 10.3162, Val Loss: 12.2301, Precision@20: 0.1876\n"
     ]
    },
    {
     "name": "stderr",
     "output_type": "stream",
     "text": [
      "100%|██████████| 35/35 [00:02<00:00, 15.81it/s]\n",
      "100%|██████████| 9/9 [00:05<00:00,  1.54it/s]\n"
     ]
    },
    {
     "name": "stdout",
     "output_type": "stream",
     "text": [
      "Epoch [23/1000], Loss: 9.9697, Val Loss: 12.2443, Precision@20: 0.1984\n"
     ]
    },
    {
     "name": "stderr",
     "output_type": "stream",
     "text": [
      "100%|██████████| 35/35 [00:02<00:00, 15.74it/s]\n",
      "100%|██████████| 9/9 [00:05<00:00,  1.55it/s]\n"
     ]
    },
    {
     "name": "stdout",
     "output_type": "stream",
     "text": [
      "Epoch [24/1000], Loss: 9.7169, Val Loss: 12.3017, Precision@20: 0.2101\n"
     ]
    },
    {
     "name": "stderr",
     "output_type": "stream",
     "text": [
      "100%|██████████| 35/35 [00:02<00:00, 15.00it/s]\n",
      "100%|██████████| 9/9 [00:05<00:00,  1.54it/s]\n"
     ]
    },
    {
     "name": "stdout",
     "output_type": "stream",
     "text": [
      "Epoch [25/1000], Loss: 9.5473, Val Loss: 12.3715, Precision@20: 0.2219\n"
     ]
    },
    {
     "name": "stderr",
     "output_type": "stream",
     "text": [
      "100%|██████████| 35/35 [00:02<00:00, 15.80it/s]\n",
      "100%|██████████| 9/9 [00:05<00:00,  1.53it/s]\n"
     ]
    },
    {
     "name": "stdout",
     "output_type": "stream",
     "text": [
      "Epoch [26/1000], Loss: 9.4272, Val Loss: 12.4335, Precision@20: 0.2337\n"
     ]
    },
    {
     "name": "stderr",
     "output_type": "stream",
     "text": [
      "100%|██████████| 35/35 [00:02<00:00, 15.74it/s]\n",
      "100%|██████████| 9/9 [00:05<00:00,  1.52it/s]\n"
     ]
    },
    {
     "name": "stdout",
     "output_type": "stream",
     "text": [
      "Epoch [27/1000], Loss: 9.3465, Val Loss: 12.4838, Precision@20: 0.2421\n"
     ]
    },
    {
     "name": "stderr",
     "output_type": "stream",
     "text": [
      "100%|██████████| 35/35 [00:02<00:00, 15.73it/s]\n",
      "100%|██████████| 9/9 [00:06<00:00,  1.50it/s]\n"
     ]
    },
    {
     "name": "stdout",
     "output_type": "stream",
     "text": [
      "Epoch [28/1000], Loss: 9.2686, Val Loss: 12.5248, Precision@20: 0.2455\n"
     ]
    },
    {
     "name": "stderr",
     "output_type": "stream",
     "text": [
      "100%|██████████| 35/35 [00:02<00:00, 15.80it/s]\n",
      "100%|██████████| 9/9 [00:05<00:00,  1.54it/s]\n"
     ]
    },
    {
     "name": "stdout",
     "output_type": "stream",
     "text": [
      "Epoch [29/1000], Loss: 9.2091, Val Loss: 12.5575, Precision@20: 0.2466\n"
     ]
    },
    {
     "name": "stderr",
     "output_type": "stream",
     "text": [
      "100%|██████████| 35/35 [00:02<00:00, 15.80it/s]\n",
      "100%|██████████| 9/9 [00:05<00:00,  1.52it/s]\n"
     ]
    },
    {
     "name": "stdout",
     "output_type": "stream",
     "text": [
      "Epoch [30/1000], Loss: 9.1591, Val Loss: 12.5885, Precision@20: 0.2448\n"
     ]
    },
    {
     "name": "stderr",
     "output_type": "stream",
     "text": [
      "100%|██████████| 35/35 [00:02<00:00, 15.70it/s]\n",
      "100%|██████████| 9/9 [00:05<00:00,  1.53it/s]\n"
     ]
    },
    {
     "name": "stdout",
     "output_type": "stream",
     "text": [
      "Epoch [31/1000], Loss: 9.1077, Val Loss: 12.6173, Precision@20: 0.2458\n"
     ]
    },
    {
     "name": "stderr",
     "output_type": "stream",
     "text": [
      "100%|██████████| 35/35 [00:02<00:00, 15.81it/s]\n",
      "100%|██████████| 9/9 [00:05<00:00,  1.53it/s]\n"
     ]
    },
    {
     "name": "stdout",
     "output_type": "stream",
     "text": [
      "Epoch [32/1000], Loss: 9.0601, Val Loss: 12.6439, Precision@20: 0.2463\n"
     ]
    },
    {
     "name": "stderr",
     "output_type": "stream",
     "text": [
      "100%|██████████| 35/35 [00:02<00:00, 15.66it/s]\n",
      "100%|██████████| 9/9 [00:05<00:00,  1.52it/s]\n"
     ]
    },
    {
     "name": "stdout",
     "output_type": "stream",
     "text": [
      "Epoch [33/1000], Loss: 9.0183, Val Loss: 12.6713, Precision@20: 0.2454\n"
     ]
    },
    {
     "name": "stderr",
     "output_type": "stream",
     "text": [
      "100%|██████████| 35/35 [00:02<00:00, 15.06it/s]\n",
      "100%|██████████| 9/9 [00:05<00:00,  1.52it/s]"
     ]
    },
    {
     "name": "stdout",
     "output_type": "stream",
     "text": [
      "Epoch [34/1000], Loss: 8.9732, Val Loss: 12.6966, Precision@20: 0.2453\n",
      "Early stopping triggered\n"
     ]
    },
    {
     "name": "stderr",
     "output_type": "stream",
     "text": [
      "\n"
     ]
    }
   ],
   "source": [
    "from sklearn.metrics import precision_score, recall_score\n",
    "from tqdm import tqdm\n",
    "from copy import deepcopy\n",
    "import warnings\n",
    "warnings.filterwarnings('always')\n",
    "\n",
    "model_parameters = deepcopy(model.state_dict())\n",
    "\n",
    "def precision_at_k(preds, target, k=20):\n",
    "    top_k_preds = preds.topk(k, dim=1).indices.cpu().numpy()\n",
    "    target = target.cpu().numpy()\n",
    "    \n",
    "    y_true = np.isin(top_k_preds, target[:, None]) \n",
    "    y_pred = np.ones_like(y_true)  \n",
    "    \n",
    "    precision_scores = []\n",
    "    for true, pred in zip(y_true, y_pred):\n",
    "        if np.sum(pred) == 0:  \n",
    "            precision_scores.append(0)\n",
    "        else:\n",
    "            precision_scores.append(precision_score(true, pred, zero_division=0))\n",
    "    return np.mean(precision_scores)\n",
    "\n",
    "def train_and_evaluate(model, train_loader, val_loader, criterion, optimizer, num_epochs, early_stopping_patience=5):\n",
    "    global model_parameters\n",
    "    best_val_precision = -float('inf')\n",
    "    patience_counter = 0\n",
    "    \n",
    "    for epoch in range(num_epochs):\n",
    "        model.train()\n",
    "        total_loss = 0\n",
    "        for inputs, target in tqdm(train_loader):\n",
    "            optimizer.zero_grad()\n",
    "            outputs = model(inputs.cuda())\n",
    "            loss = criterion(outputs, target.cuda())\n",
    "\n",
    "            loss.backward()\n",
    "            optimizer.step()\n",
    "            total_loss += loss.detach().cpu().item()\n",
    "\n",
    "        val_loss, val_precision = evaluate(model, val_loader, criterion)\n",
    "        \n",
    "        print(f'Epoch [{epoch+1}/{num_epochs}], Loss: {total_loss/len(train_loader):.4f}, '\n",
    "              f'Val Loss: {val_loss:.4f}, Precision@20: {val_precision:.4f}')\n",
    "        \n",
    "        if val_precision > best_val_precision:\n",
    "            best_val_precision = val_precision\n",
    "            patience_counter = 0\n",
    "            model_parameters = deepcopy(model.state_dict())\n",
    "        else:\n",
    "            patience_counter += 1\n",
    "            if patience_counter >= early_stopping_patience:\n",
    "                print(\"Early stopping triggered\")\n",
    "                break\n",
    "\n",
    "def evaluate(model, data_loader, criterion):\n",
    "    model.eval()\n",
    "    total_loss = 0\n",
    "    total_precision = 0\n",
    "    total_samples = 0\n",
    "    \n",
    "    with torch.no_grad():\n",
    "        for inputs, target in tqdm(data_loader):\n",
    "            outputs = model(inputs.cuda())\n",
    "            loss = criterion(outputs, target.cuda())\n",
    "            total_loss += loss.detach().cpu().item()\n",
    "            \n",
    "            total_precision += precision_at_k(outputs, target, k=20) * inputs.size(0)\n",
    "            total_samples += inputs.size(0)\n",
    "            \n",
    "    avg_loss = total_loss / len(data_loader)\n",
    "    avg_precision = total_precision / total_samples\n",
    "    return avg_loss, avg_precision\n",
    "\n",
    "train_and_evaluate(model, train_loader, test_loader, criterion, optimizer, num_epochs)\n"
   ]
  },
  {
   "cell_type": "code",
   "execution_count": 7,
   "metadata": {},
   "outputs": [
    {
     "name": "stderr",
     "output_type": "stream",
     "text": [
      "100%|██████████| 9/9 [00:05<00:00,  1.52it/s]"
     ]
    },
    {
     "name": "stdout",
     "output_type": "stream",
     "text": [
      "12.557455168830025 0.24662921348314606\n"
     ]
    },
    {
     "name": "stderr",
     "output_type": "stream",
     "text": [
      "\n"
     ]
    }
   ],
   "source": [
    "model.load_state_dict(model_parameters)\n",
    "\n",
    "avg_loss, avg_precision = evaluate(model, test_loader, criterion)\n",
    "print(avg_loss, avg_precision)"
   ]
  },
  {
   "cell_type": "code",
   "execution_count": 8,
   "metadata": {},
   "outputs": [],
   "source": [
    "torch.save({\n",
    "    \"state_dict\": model.cpu().state_dict(),\n",
    "    \"num_items\": num_items,\n",
    "    \"embedding_dim\":embedding_dim,\n",
    "    \"hidden_dim\": hidden_dim\n",
    "}, \"../parameters/session.pth\")"
   ]
  }
 ],
 "metadata": {
  "kernelspec": {
   "display_name": "fyi_39",
   "language": "python",
   "name": "python3"
  },
  "language_info": {
   "codemirror_mode": {
    "name": "ipython",
    "version": 3
   },
   "file_extension": ".py",
   "mimetype": "text/x-python",
   "name": "python",
   "nbconvert_exporter": "python",
   "pygments_lexer": "ipython3",
   "version": "3.9.18"
  }
 },
 "nbformat": 4,
 "nbformat_minor": 2
}
